{
  "nbformat": 4,
  "nbformat_minor": 0,
  "metadata": {
    "colab": {
      "provenance": []
    },
    "kernelspec": {
      "name": "python3",
      "display_name": "Python 3"
    },
    "language_info": {
      "name": "python"
    }
  },
  "cells": [
    {
      "cell_type": "markdown",
      "source": [
        "## **TUGAS KELOMPOK 9**\n",
        "### **PRAKTIKUM DATA MINING**"
      ],
      "metadata": {
        "id": "D3PlolVfMD0P"
      }
    },
    {
      "cell_type": "markdown",
      "source": [
        "- Adisty Syawalda Ariyanto - 121450136\n",
        "- Ayu Erlinawati - 121450025\n",
        "- Christian Arvianus Nathanael Biran - 121450112\n",
        "- Helma Lia Putri - 121450100\n",
        "- Kanaya Dea Thalita Akhmad - 121450001\n",
        "- Raditia Riandi - 121450105"
      ],
      "metadata": {
        "id": "Uy84ww-BSq9J"
      }
    },
    {
      "cell_type": "code",
      "execution_count": null,
      "metadata": {
        "id": "I5iXdJzwy_3W"
      },
      "outputs": [],
      "source": [
        "import pandas as pd # library pandas untuk mengelola dan menganalisis data\n",
        "df = pd.read_csv(\"/content/Netflix Userbase Dataset.csv\") # untuk membaca file CSV dan mengonversinya menjadi DataFrame"
      ]
    },
    {
      "cell_type": "code",
      "source": [
        "df.shape # menampilkan rows dan att pada data (size)"
      ],
      "metadata": {
        "colab": {
          "base_uri": "https://localhost:8080/"
        },
        "id": "OvT0FFbEzunm",
        "outputId": "0fef080a-78e8-4f2c-b682-ebf101caaede"
      },
      "execution_count": null,
      "outputs": [
        {
          "output_type": "execute_result",
          "data": {
            "text/plain": [
              "(2500, 10)"
            ]
          },
          "metadata": {},
          "execution_count": 48
        }
      ]
    },
    {
      "cell_type": "code",
      "source": [
        "df.head(5) # menampilkan 5 baris data teratas"
      ],
      "metadata": {
        "colab": {
          "base_uri": "https://localhost:8080/",
          "height": 206
        },
        "id": "OYbrfcQ-zr4h",
        "outputId": "9e50b335-a79e-4735-b8ee-af6880d98977"
      },
      "execution_count": null,
      "outputs": [
        {
          "output_type": "execute_result",
          "data": {
            "text/plain": [
              "   User ID Subscription Type  Monthly Revenue Join Date Last Payment Date  \\\n",
              "0        1             Basic               10  15-01-22          10-06-23   \n",
              "1        2           Premium               15  05-09-21          22-06-23   \n",
              "2        3          Standard               12  28-02-23          27-06-23   \n",
              "3        4          Standard               12  10-07-22          26-06-23   \n",
              "4        5             Basic               10  01-05-23          28-06-23   \n",
              "\n",
              "          Country  Age  Gender      Device Plan Duration  \n",
              "0   United States   28    Male  Smartphone       1 Month  \n",
              "1          Canada   35  Female      Tablet       1 Month  \n",
              "2  United Kingdom   42    Male    Smart TV       1 Month  \n",
              "3       Australia   51  Female      Laptop       1 Month  \n",
              "4         Germany   33    Male  Smartphone       1 Month  "
            ],
            "text/html": [
              "\n",
              "  <div id=\"df-bf1063c0-c981-4d4a-b306-321c6f7df975\" class=\"colab-df-container\">\n",
              "    <div>\n",
              "<style scoped>\n",
              "    .dataframe tbody tr th:only-of-type {\n",
              "        vertical-align: middle;\n",
              "    }\n",
              "\n",
              "    .dataframe tbody tr th {\n",
              "        vertical-align: top;\n",
              "    }\n",
              "\n",
              "    .dataframe thead th {\n",
              "        text-align: right;\n",
              "    }\n",
              "</style>\n",
              "<table border=\"1\" class=\"dataframe\">\n",
              "  <thead>\n",
              "    <tr style=\"text-align: right;\">\n",
              "      <th></th>\n",
              "      <th>User ID</th>\n",
              "      <th>Subscription Type</th>\n",
              "      <th>Monthly Revenue</th>\n",
              "      <th>Join Date</th>\n",
              "      <th>Last Payment Date</th>\n",
              "      <th>Country</th>\n",
              "      <th>Age</th>\n",
              "      <th>Gender</th>\n",
              "      <th>Device</th>\n",
              "      <th>Plan Duration</th>\n",
              "    </tr>\n",
              "  </thead>\n",
              "  <tbody>\n",
              "    <tr>\n",
              "      <th>0</th>\n",
              "      <td>1</td>\n",
              "      <td>Basic</td>\n",
              "      <td>10</td>\n",
              "      <td>15-01-22</td>\n",
              "      <td>10-06-23</td>\n",
              "      <td>United States</td>\n",
              "      <td>28</td>\n",
              "      <td>Male</td>\n",
              "      <td>Smartphone</td>\n",
              "      <td>1 Month</td>\n",
              "    </tr>\n",
              "    <tr>\n",
              "      <th>1</th>\n",
              "      <td>2</td>\n",
              "      <td>Premium</td>\n",
              "      <td>15</td>\n",
              "      <td>05-09-21</td>\n",
              "      <td>22-06-23</td>\n",
              "      <td>Canada</td>\n",
              "      <td>35</td>\n",
              "      <td>Female</td>\n",
              "      <td>Tablet</td>\n",
              "      <td>1 Month</td>\n",
              "    </tr>\n",
              "    <tr>\n",
              "      <th>2</th>\n",
              "      <td>3</td>\n",
              "      <td>Standard</td>\n",
              "      <td>12</td>\n",
              "      <td>28-02-23</td>\n",
              "      <td>27-06-23</td>\n",
              "      <td>United Kingdom</td>\n",
              "      <td>42</td>\n",
              "      <td>Male</td>\n",
              "      <td>Smart TV</td>\n",
              "      <td>1 Month</td>\n",
              "    </tr>\n",
              "    <tr>\n",
              "      <th>3</th>\n",
              "      <td>4</td>\n",
              "      <td>Standard</td>\n",
              "      <td>12</td>\n",
              "      <td>10-07-22</td>\n",
              "      <td>26-06-23</td>\n",
              "      <td>Australia</td>\n",
              "      <td>51</td>\n",
              "      <td>Female</td>\n",
              "      <td>Laptop</td>\n",
              "      <td>1 Month</td>\n",
              "    </tr>\n",
              "    <tr>\n",
              "      <th>4</th>\n",
              "      <td>5</td>\n",
              "      <td>Basic</td>\n",
              "      <td>10</td>\n",
              "      <td>01-05-23</td>\n",
              "      <td>28-06-23</td>\n",
              "      <td>Germany</td>\n",
              "      <td>33</td>\n",
              "      <td>Male</td>\n",
              "      <td>Smartphone</td>\n",
              "      <td>1 Month</td>\n",
              "    </tr>\n",
              "  </tbody>\n",
              "</table>\n",
              "</div>\n",
              "    <div class=\"colab-df-buttons\">\n",
              "\n",
              "  <div class=\"colab-df-container\">\n",
              "    <button class=\"colab-df-convert\" onclick=\"convertToInteractive('df-bf1063c0-c981-4d4a-b306-321c6f7df975')\"\n",
              "            title=\"Convert this dataframe to an interactive table.\"\n",
              "            style=\"display:none;\">\n",
              "\n",
              "  <svg xmlns=\"http://www.w3.org/2000/svg\" height=\"24px\" viewBox=\"0 -960 960 960\">\n",
              "    <path d=\"M120-120v-720h720v720H120Zm60-500h600v-160H180v160Zm220 220h160v-160H400v160Zm0 220h160v-160H400v160ZM180-400h160v-160H180v160Zm440 0h160v-160H620v160ZM180-180h160v-160H180v160Zm440 0h160v-160H620v160Z\"/>\n",
              "  </svg>\n",
              "    </button>\n",
              "\n",
              "  <style>\n",
              "    .colab-df-container {\n",
              "      display:flex;\n",
              "      gap: 12px;\n",
              "    }\n",
              "\n",
              "    .colab-df-convert {\n",
              "      background-color: #E8F0FE;\n",
              "      border: none;\n",
              "      border-radius: 50%;\n",
              "      cursor: pointer;\n",
              "      display: none;\n",
              "      fill: #1967D2;\n",
              "      height: 32px;\n",
              "      padding: 0 0 0 0;\n",
              "      width: 32px;\n",
              "    }\n",
              "\n",
              "    .colab-df-convert:hover {\n",
              "      background-color: #E2EBFA;\n",
              "      box-shadow: 0px 1px 2px rgba(60, 64, 67, 0.3), 0px 1px 3px 1px rgba(60, 64, 67, 0.15);\n",
              "      fill: #174EA6;\n",
              "    }\n",
              "\n",
              "    .colab-df-buttons div {\n",
              "      margin-bottom: 4px;\n",
              "    }\n",
              "\n",
              "    [theme=dark] .colab-df-convert {\n",
              "      background-color: #3B4455;\n",
              "      fill: #D2E3FC;\n",
              "    }\n",
              "\n",
              "    [theme=dark] .colab-df-convert:hover {\n",
              "      background-color: #434B5C;\n",
              "      box-shadow: 0px 1px 3px 1px rgba(0, 0, 0, 0.15);\n",
              "      filter: drop-shadow(0px 1px 2px rgba(0, 0, 0, 0.3));\n",
              "      fill: #FFFFFF;\n",
              "    }\n",
              "  </style>\n",
              "\n",
              "    <script>\n",
              "      const buttonEl =\n",
              "        document.querySelector('#df-bf1063c0-c981-4d4a-b306-321c6f7df975 button.colab-df-convert');\n",
              "      buttonEl.style.display =\n",
              "        google.colab.kernel.accessAllowed ? 'block' : 'none';\n",
              "\n",
              "      async function convertToInteractive(key) {\n",
              "        const element = document.querySelector('#df-bf1063c0-c981-4d4a-b306-321c6f7df975');\n",
              "        const dataTable =\n",
              "          await google.colab.kernel.invokeFunction('convertToInteractive',\n",
              "                                                    [key], {});\n",
              "        if (!dataTable) return;\n",
              "\n",
              "        const docLinkHtml = 'Like what you see? Visit the ' +\n",
              "          '<a target=\"_blank\" href=https://colab.research.google.com/notebooks/data_table.ipynb>data table notebook</a>'\n",
              "          + ' to learn more about interactive tables.';\n",
              "        element.innerHTML = '';\n",
              "        dataTable['output_type'] = 'display_data';\n",
              "        await google.colab.output.renderOutput(dataTable, element);\n",
              "        const docLink = document.createElement('div');\n",
              "        docLink.innerHTML = docLinkHtml;\n",
              "        element.appendChild(docLink);\n",
              "      }\n",
              "    </script>\n",
              "  </div>\n",
              "\n",
              "\n",
              "<div id=\"df-b538d329-a6c5-4759-83bb-a2bf533f13c2\">\n",
              "  <button class=\"colab-df-quickchart\" onclick=\"quickchart('df-b538d329-a6c5-4759-83bb-a2bf533f13c2')\"\n",
              "            title=\"Suggest charts.\"\n",
              "            style=\"display:none;\">\n",
              "\n",
              "<svg xmlns=\"http://www.w3.org/2000/svg\" height=\"24px\"viewBox=\"0 0 24 24\"\n",
              "     width=\"24px\">\n",
              "    <g>\n",
              "        <path d=\"M19 3H5c-1.1 0-2 .9-2 2v14c0 1.1.9 2 2 2h14c1.1 0 2-.9 2-2V5c0-1.1-.9-2-2-2zM9 17H7v-7h2v7zm4 0h-2V7h2v10zm4 0h-2v-4h2v4z\"/>\n",
              "    </g>\n",
              "</svg>\n",
              "  </button>\n",
              "\n",
              "<style>\n",
              "  .colab-df-quickchart {\n",
              "      --bg-color: #E8F0FE;\n",
              "      --fill-color: #1967D2;\n",
              "      --hover-bg-color: #E2EBFA;\n",
              "      --hover-fill-color: #174EA6;\n",
              "      --disabled-fill-color: #AAA;\n",
              "      --disabled-bg-color: #DDD;\n",
              "  }\n",
              "\n",
              "  [theme=dark] .colab-df-quickchart {\n",
              "      --bg-color: #3B4455;\n",
              "      --fill-color: #D2E3FC;\n",
              "      --hover-bg-color: #434B5C;\n",
              "      --hover-fill-color: #FFFFFF;\n",
              "      --disabled-bg-color: #3B4455;\n",
              "      --disabled-fill-color: #666;\n",
              "  }\n",
              "\n",
              "  .colab-df-quickchart {\n",
              "    background-color: var(--bg-color);\n",
              "    border: none;\n",
              "    border-radius: 50%;\n",
              "    cursor: pointer;\n",
              "    display: none;\n",
              "    fill: var(--fill-color);\n",
              "    height: 32px;\n",
              "    padding: 0;\n",
              "    width: 32px;\n",
              "  }\n",
              "\n",
              "  .colab-df-quickchart:hover {\n",
              "    background-color: var(--hover-bg-color);\n",
              "    box-shadow: 0 1px 2px rgba(60, 64, 67, 0.3), 0 1px 3px 1px rgba(60, 64, 67, 0.15);\n",
              "    fill: var(--button-hover-fill-color);\n",
              "  }\n",
              "\n",
              "  .colab-df-quickchart-complete:disabled,\n",
              "  .colab-df-quickchart-complete:disabled:hover {\n",
              "    background-color: var(--disabled-bg-color);\n",
              "    fill: var(--disabled-fill-color);\n",
              "    box-shadow: none;\n",
              "  }\n",
              "\n",
              "  .colab-df-spinner {\n",
              "    border: 2px solid var(--fill-color);\n",
              "    border-color: transparent;\n",
              "    border-bottom-color: var(--fill-color);\n",
              "    animation:\n",
              "      spin 1s steps(1) infinite;\n",
              "  }\n",
              "\n",
              "  @keyframes spin {\n",
              "    0% {\n",
              "      border-color: transparent;\n",
              "      border-bottom-color: var(--fill-color);\n",
              "      border-left-color: var(--fill-color);\n",
              "    }\n",
              "    20% {\n",
              "      border-color: transparent;\n",
              "      border-left-color: var(--fill-color);\n",
              "      border-top-color: var(--fill-color);\n",
              "    }\n",
              "    30% {\n",
              "      border-color: transparent;\n",
              "      border-left-color: var(--fill-color);\n",
              "      border-top-color: var(--fill-color);\n",
              "      border-right-color: var(--fill-color);\n",
              "    }\n",
              "    40% {\n",
              "      border-color: transparent;\n",
              "      border-right-color: var(--fill-color);\n",
              "      border-top-color: var(--fill-color);\n",
              "    }\n",
              "    60% {\n",
              "      border-color: transparent;\n",
              "      border-right-color: var(--fill-color);\n",
              "    }\n",
              "    80% {\n",
              "      border-color: transparent;\n",
              "      border-right-color: var(--fill-color);\n",
              "      border-bottom-color: var(--fill-color);\n",
              "    }\n",
              "    90% {\n",
              "      border-color: transparent;\n",
              "      border-bottom-color: var(--fill-color);\n",
              "    }\n",
              "  }\n",
              "</style>\n",
              "\n",
              "  <script>\n",
              "    async function quickchart(key) {\n",
              "      const quickchartButtonEl =\n",
              "        document.querySelector('#' + key + ' button');\n",
              "      quickchartButtonEl.disabled = true;  // To prevent multiple clicks.\n",
              "      quickchartButtonEl.classList.add('colab-df-spinner');\n",
              "      try {\n",
              "        const charts = await google.colab.kernel.invokeFunction(\n",
              "            'suggestCharts', [key], {});\n",
              "      } catch (error) {\n",
              "        console.error('Error during call to suggestCharts:', error);\n",
              "      }\n",
              "      quickchartButtonEl.classList.remove('colab-df-spinner');\n",
              "      quickchartButtonEl.classList.add('colab-df-quickchart-complete');\n",
              "    }\n",
              "    (() => {\n",
              "      let quickchartButtonEl =\n",
              "        document.querySelector('#df-b538d329-a6c5-4759-83bb-a2bf533f13c2 button');\n",
              "      quickchartButtonEl.style.display =\n",
              "        google.colab.kernel.accessAllowed ? 'block' : 'none';\n",
              "    })();\n",
              "  </script>\n",
              "</div>\n",
              "    </div>\n",
              "  </div>\n"
            ]
          },
          "metadata": {},
          "execution_count": 49
        }
      ]
    },
    {
      "cell_type": "code",
      "source": [
        "df.tail(5) # menampilkan 5 baris data terbawah"
      ],
      "metadata": {
        "colab": {
          "base_uri": "https://localhost:8080/",
          "height": 206
        },
        "id": "2z5yXVR7zzEl",
        "outputId": "3145ae7a-b989-466c-d295-0260b1295394"
      },
      "execution_count": null,
      "outputs": [
        {
          "output_type": "execute_result",
          "data": {
            "text/plain": [
              "      User ID Subscription Type  Monthly Revenue Join Date Last Payment Date  \\\n",
              "2495     2496           Premium               14  25-07-22          12-07-23   \n",
              "2496     2497             Basic               15  04-08-22          14-07-23   \n",
              "2497     2498          Standard               12  09-08-22          15-07-23   \n",
              "2498     2499          Standard               13  12-08-22          12-07-23   \n",
              "2499     2500             Basic               15  13-08-22          12-07-23   \n",
              "\n",
              "            Country  Age  Gender    Device Plan Duration  \n",
              "2495          Spain   28  Female  Smart TV       1 Month  \n",
              "2496          Spain   33  Female  Smart TV       1 Month  \n",
              "2497  United States   38    Male    Laptop       1 Month  \n",
              "2498         Canada   48  Female    Tablet       1 Month  \n",
              "2499  United States   35  Female  Smart TV       1 Month  "
            ],
            "text/html": [
              "\n",
              "  <div id=\"df-f8895fbc-40f1-4ea2-8814-ac70a161f471\" class=\"colab-df-container\">\n",
              "    <div>\n",
              "<style scoped>\n",
              "    .dataframe tbody tr th:only-of-type {\n",
              "        vertical-align: middle;\n",
              "    }\n",
              "\n",
              "    .dataframe tbody tr th {\n",
              "        vertical-align: top;\n",
              "    }\n",
              "\n",
              "    .dataframe thead th {\n",
              "        text-align: right;\n",
              "    }\n",
              "</style>\n",
              "<table border=\"1\" class=\"dataframe\">\n",
              "  <thead>\n",
              "    <tr style=\"text-align: right;\">\n",
              "      <th></th>\n",
              "      <th>User ID</th>\n",
              "      <th>Subscription Type</th>\n",
              "      <th>Monthly Revenue</th>\n",
              "      <th>Join Date</th>\n",
              "      <th>Last Payment Date</th>\n",
              "      <th>Country</th>\n",
              "      <th>Age</th>\n",
              "      <th>Gender</th>\n",
              "      <th>Device</th>\n",
              "      <th>Plan Duration</th>\n",
              "    </tr>\n",
              "  </thead>\n",
              "  <tbody>\n",
              "    <tr>\n",
              "      <th>2495</th>\n",
              "      <td>2496</td>\n",
              "      <td>Premium</td>\n",
              "      <td>14</td>\n",
              "      <td>25-07-22</td>\n",
              "      <td>12-07-23</td>\n",
              "      <td>Spain</td>\n",
              "      <td>28</td>\n",
              "      <td>Female</td>\n",
              "      <td>Smart TV</td>\n",
              "      <td>1 Month</td>\n",
              "    </tr>\n",
              "    <tr>\n",
              "      <th>2496</th>\n",
              "      <td>2497</td>\n",
              "      <td>Basic</td>\n",
              "      <td>15</td>\n",
              "      <td>04-08-22</td>\n",
              "      <td>14-07-23</td>\n",
              "      <td>Spain</td>\n",
              "      <td>33</td>\n",
              "      <td>Female</td>\n",
              "      <td>Smart TV</td>\n",
              "      <td>1 Month</td>\n",
              "    </tr>\n",
              "    <tr>\n",
              "      <th>2497</th>\n",
              "      <td>2498</td>\n",
              "      <td>Standard</td>\n",
              "      <td>12</td>\n",
              "      <td>09-08-22</td>\n",
              "      <td>15-07-23</td>\n",
              "      <td>United States</td>\n",
              "      <td>38</td>\n",
              "      <td>Male</td>\n",
              "      <td>Laptop</td>\n",
              "      <td>1 Month</td>\n",
              "    </tr>\n",
              "    <tr>\n",
              "      <th>2498</th>\n",
              "      <td>2499</td>\n",
              "      <td>Standard</td>\n",
              "      <td>13</td>\n",
              "      <td>12-08-22</td>\n",
              "      <td>12-07-23</td>\n",
              "      <td>Canada</td>\n",
              "      <td>48</td>\n",
              "      <td>Female</td>\n",
              "      <td>Tablet</td>\n",
              "      <td>1 Month</td>\n",
              "    </tr>\n",
              "    <tr>\n",
              "      <th>2499</th>\n",
              "      <td>2500</td>\n",
              "      <td>Basic</td>\n",
              "      <td>15</td>\n",
              "      <td>13-08-22</td>\n",
              "      <td>12-07-23</td>\n",
              "      <td>United States</td>\n",
              "      <td>35</td>\n",
              "      <td>Female</td>\n",
              "      <td>Smart TV</td>\n",
              "      <td>1 Month</td>\n",
              "    </tr>\n",
              "  </tbody>\n",
              "</table>\n",
              "</div>\n",
              "    <div class=\"colab-df-buttons\">\n",
              "\n",
              "  <div class=\"colab-df-container\">\n",
              "    <button class=\"colab-df-convert\" onclick=\"convertToInteractive('df-f8895fbc-40f1-4ea2-8814-ac70a161f471')\"\n",
              "            title=\"Convert this dataframe to an interactive table.\"\n",
              "            style=\"display:none;\">\n",
              "\n",
              "  <svg xmlns=\"http://www.w3.org/2000/svg\" height=\"24px\" viewBox=\"0 -960 960 960\">\n",
              "    <path d=\"M120-120v-720h720v720H120Zm60-500h600v-160H180v160Zm220 220h160v-160H400v160Zm0 220h160v-160H400v160ZM180-400h160v-160H180v160Zm440 0h160v-160H620v160ZM180-180h160v-160H180v160Zm440 0h160v-160H620v160Z\"/>\n",
              "  </svg>\n",
              "    </button>\n",
              "\n",
              "  <style>\n",
              "    .colab-df-container {\n",
              "      display:flex;\n",
              "      gap: 12px;\n",
              "    }\n",
              "\n",
              "    .colab-df-convert {\n",
              "      background-color: #E8F0FE;\n",
              "      border: none;\n",
              "      border-radius: 50%;\n",
              "      cursor: pointer;\n",
              "      display: none;\n",
              "      fill: #1967D2;\n",
              "      height: 32px;\n",
              "      padding: 0 0 0 0;\n",
              "      width: 32px;\n",
              "    }\n",
              "\n",
              "    .colab-df-convert:hover {\n",
              "      background-color: #E2EBFA;\n",
              "      box-shadow: 0px 1px 2px rgba(60, 64, 67, 0.3), 0px 1px 3px 1px rgba(60, 64, 67, 0.15);\n",
              "      fill: #174EA6;\n",
              "    }\n",
              "\n",
              "    .colab-df-buttons div {\n",
              "      margin-bottom: 4px;\n",
              "    }\n",
              "\n",
              "    [theme=dark] .colab-df-convert {\n",
              "      background-color: #3B4455;\n",
              "      fill: #D2E3FC;\n",
              "    }\n",
              "\n",
              "    [theme=dark] .colab-df-convert:hover {\n",
              "      background-color: #434B5C;\n",
              "      box-shadow: 0px 1px 3px 1px rgba(0, 0, 0, 0.15);\n",
              "      filter: drop-shadow(0px 1px 2px rgba(0, 0, 0, 0.3));\n",
              "      fill: #FFFFFF;\n",
              "    }\n",
              "  </style>\n",
              "\n",
              "    <script>\n",
              "      const buttonEl =\n",
              "        document.querySelector('#df-f8895fbc-40f1-4ea2-8814-ac70a161f471 button.colab-df-convert');\n",
              "      buttonEl.style.display =\n",
              "        google.colab.kernel.accessAllowed ? 'block' : 'none';\n",
              "\n",
              "      async function convertToInteractive(key) {\n",
              "        const element = document.querySelector('#df-f8895fbc-40f1-4ea2-8814-ac70a161f471');\n",
              "        const dataTable =\n",
              "          await google.colab.kernel.invokeFunction('convertToInteractive',\n",
              "                                                    [key], {});\n",
              "        if (!dataTable) return;\n",
              "\n",
              "        const docLinkHtml = 'Like what you see? Visit the ' +\n",
              "          '<a target=\"_blank\" href=https://colab.research.google.com/notebooks/data_table.ipynb>data table notebook</a>'\n",
              "          + ' to learn more about interactive tables.';\n",
              "        element.innerHTML = '';\n",
              "        dataTable['output_type'] = 'display_data';\n",
              "        await google.colab.output.renderOutput(dataTable, element);\n",
              "        const docLink = document.createElement('div');\n",
              "        docLink.innerHTML = docLinkHtml;\n",
              "        element.appendChild(docLink);\n",
              "      }\n",
              "    </script>\n",
              "  </div>\n",
              "\n",
              "\n",
              "<div id=\"df-320e8ea1-47d3-4d30-9f6c-038e0cb4d3ea\">\n",
              "  <button class=\"colab-df-quickchart\" onclick=\"quickchart('df-320e8ea1-47d3-4d30-9f6c-038e0cb4d3ea')\"\n",
              "            title=\"Suggest charts.\"\n",
              "            style=\"display:none;\">\n",
              "\n",
              "<svg xmlns=\"http://www.w3.org/2000/svg\" height=\"24px\"viewBox=\"0 0 24 24\"\n",
              "     width=\"24px\">\n",
              "    <g>\n",
              "        <path d=\"M19 3H5c-1.1 0-2 .9-2 2v14c0 1.1.9 2 2 2h14c1.1 0 2-.9 2-2V5c0-1.1-.9-2-2-2zM9 17H7v-7h2v7zm4 0h-2V7h2v10zm4 0h-2v-4h2v4z\"/>\n",
              "    </g>\n",
              "</svg>\n",
              "  </button>\n",
              "\n",
              "<style>\n",
              "  .colab-df-quickchart {\n",
              "      --bg-color: #E8F0FE;\n",
              "      --fill-color: #1967D2;\n",
              "      --hover-bg-color: #E2EBFA;\n",
              "      --hover-fill-color: #174EA6;\n",
              "      --disabled-fill-color: #AAA;\n",
              "      --disabled-bg-color: #DDD;\n",
              "  }\n",
              "\n",
              "  [theme=dark] .colab-df-quickchart {\n",
              "      --bg-color: #3B4455;\n",
              "      --fill-color: #D2E3FC;\n",
              "      --hover-bg-color: #434B5C;\n",
              "      --hover-fill-color: #FFFFFF;\n",
              "      --disabled-bg-color: #3B4455;\n",
              "      --disabled-fill-color: #666;\n",
              "  }\n",
              "\n",
              "  .colab-df-quickchart {\n",
              "    background-color: var(--bg-color);\n",
              "    border: none;\n",
              "    border-radius: 50%;\n",
              "    cursor: pointer;\n",
              "    display: none;\n",
              "    fill: var(--fill-color);\n",
              "    height: 32px;\n",
              "    padding: 0;\n",
              "    width: 32px;\n",
              "  }\n",
              "\n",
              "  .colab-df-quickchart:hover {\n",
              "    background-color: var(--hover-bg-color);\n",
              "    box-shadow: 0 1px 2px rgba(60, 64, 67, 0.3), 0 1px 3px 1px rgba(60, 64, 67, 0.15);\n",
              "    fill: var(--button-hover-fill-color);\n",
              "  }\n",
              "\n",
              "  .colab-df-quickchart-complete:disabled,\n",
              "  .colab-df-quickchart-complete:disabled:hover {\n",
              "    background-color: var(--disabled-bg-color);\n",
              "    fill: var(--disabled-fill-color);\n",
              "    box-shadow: none;\n",
              "  }\n",
              "\n",
              "  .colab-df-spinner {\n",
              "    border: 2px solid var(--fill-color);\n",
              "    border-color: transparent;\n",
              "    border-bottom-color: var(--fill-color);\n",
              "    animation:\n",
              "      spin 1s steps(1) infinite;\n",
              "  }\n",
              "\n",
              "  @keyframes spin {\n",
              "    0% {\n",
              "      border-color: transparent;\n",
              "      border-bottom-color: var(--fill-color);\n",
              "      border-left-color: var(--fill-color);\n",
              "    }\n",
              "    20% {\n",
              "      border-color: transparent;\n",
              "      border-left-color: var(--fill-color);\n",
              "      border-top-color: var(--fill-color);\n",
              "    }\n",
              "    30% {\n",
              "      border-color: transparent;\n",
              "      border-left-color: var(--fill-color);\n",
              "      border-top-color: var(--fill-color);\n",
              "      border-right-color: var(--fill-color);\n",
              "    }\n",
              "    40% {\n",
              "      border-color: transparent;\n",
              "      border-right-color: var(--fill-color);\n",
              "      border-top-color: var(--fill-color);\n",
              "    }\n",
              "    60% {\n",
              "      border-color: transparent;\n",
              "      border-right-color: var(--fill-color);\n",
              "    }\n",
              "    80% {\n",
              "      border-color: transparent;\n",
              "      border-right-color: var(--fill-color);\n",
              "      border-bottom-color: var(--fill-color);\n",
              "    }\n",
              "    90% {\n",
              "      border-color: transparent;\n",
              "      border-bottom-color: var(--fill-color);\n",
              "    }\n",
              "  }\n",
              "</style>\n",
              "\n",
              "  <script>\n",
              "    async function quickchart(key) {\n",
              "      const quickchartButtonEl =\n",
              "        document.querySelector('#' + key + ' button');\n",
              "      quickchartButtonEl.disabled = true;  // To prevent multiple clicks.\n",
              "      quickchartButtonEl.classList.add('colab-df-spinner');\n",
              "      try {\n",
              "        const charts = await google.colab.kernel.invokeFunction(\n",
              "            'suggestCharts', [key], {});\n",
              "      } catch (error) {\n",
              "        console.error('Error during call to suggestCharts:', error);\n",
              "      }\n",
              "      quickchartButtonEl.classList.remove('colab-df-spinner');\n",
              "      quickchartButtonEl.classList.add('colab-df-quickchart-complete');\n",
              "    }\n",
              "    (() => {\n",
              "      let quickchartButtonEl =\n",
              "        document.querySelector('#df-320e8ea1-47d3-4d30-9f6c-038e0cb4d3ea button');\n",
              "      quickchartButtonEl.style.display =\n",
              "        google.colab.kernel.accessAllowed ? 'block' : 'none';\n",
              "    })();\n",
              "  </script>\n",
              "</div>\n",
              "    </div>\n",
              "  </div>\n"
            ]
          },
          "metadata": {},
          "execution_count": 5
        }
      ]
    },
    {
      "cell_type": "code",
      "source": [
        "df.sample(5) # menampilkan 5 baris secara acak"
      ],
      "metadata": {
        "colab": {
          "base_uri": "https://localhost:8080/",
          "height": 206
        },
        "id": "EbeyeY-K8IHP",
        "outputId": "f27f283a-cf21-47a2-8862-51818a032e92"
      },
      "execution_count": null,
      "outputs": [
        {
          "output_type": "execute_result",
          "data": {
            "text/plain": [
              "      User ID Subscription Type  Monthly Revenue Join Date Last Payment Date  \\\n",
              "2188     2189             Basic               15  04-10-22          09-07-23   \n",
              "2354     2355             Basic               13  22-07-22          10-07-23   \n",
              "2336     2337           Premium               10  20-08-22          10-07-23   \n",
              "915       916           Premium               12  26-10-22          01-07-23   \n",
              "580       581           Premium               10  02-08-22          29-06-23   \n",
              "\n",
              "            Country  Age  Gender      Device Plan Duration  \n",
              "2188      Australia   35    Male      Laptop       1 Month  \n",
              "2354        Germany   49    Male      Laptop       1 Month  \n",
              "2336         Canada   41    Male  Smartphone       1 Month  \n",
              "915          France   50  Female  Smartphone       1 Month  \n",
              "580   United States   29  Female      Laptop       1 Month  "
            ],
            "text/html": [
              "\n",
              "  <div id=\"df-afd16767-dbaa-46de-a500-e4ea20bf1a68\" class=\"colab-df-container\">\n",
              "    <div>\n",
              "<style scoped>\n",
              "    .dataframe tbody tr th:only-of-type {\n",
              "        vertical-align: middle;\n",
              "    }\n",
              "\n",
              "    .dataframe tbody tr th {\n",
              "        vertical-align: top;\n",
              "    }\n",
              "\n",
              "    .dataframe thead th {\n",
              "        text-align: right;\n",
              "    }\n",
              "</style>\n",
              "<table border=\"1\" class=\"dataframe\">\n",
              "  <thead>\n",
              "    <tr style=\"text-align: right;\">\n",
              "      <th></th>\n",
              "      <th>User ID</th>\n",
              "      <th>Subscription Type</th>\n",
              "      <th>Monthly Revenue</th>\n",
              "      <th>Join Date</th>\n",
              "      <th>Last Payment Date</th>\n",
              "      <th>Country</th>\n",
              "      <th>Age</th>\n",
              "      <th>Gender</th>\n",
              "      <th>Device</th>\n",
              "      <th>Plan Duration</th>\n",
              "    </tr>\n",
              "  </thead>\n",
              "  <tbody>\n",
              "    <tr>\n",
              "      <th>2188</th>\n",
              "      <td>2189</td>\n",
              "      <td>Basic</td>\n",
              "      <td>15</td>\n",
              "      <td>04-10-22</td>\n",
              "      <td>09-07-23</td>\n",
              "      <td>Australia</td>\n",
              "      <td>35</td>\n",
              "      <td>Male</td>\n",
              "      <td>Laptop</td>\n",
              "      <td>1 Month</td>\n",
              "    </tr>\n",
              "    <tr>\n",
              "      <th>2354</th>\n",
              "      <td>2355</td>\n",
              "      <td>Basic</td>\n",
              "      <td>13</td>\n",
              "      <td>22-07-22</td>\n",
              "      <td>10-07-23</td>\n",
              "      <td>Germany</td>\n",
              "      <td>49</td>\n",
              "      <td>Male</td>\n",
              "      <td>Laptop</td>\n",
              "      <td>1 Month</td>\n",
              "    </tr>\n",
              "    <tr>\n",
              "      <th>2336</th>\n",
              "      <td>2337</td>\n",
              "      <td>Premium</td>\n",
              "      <td>10</td>\n",
              "      <td>20-08-22</td>\n",
              "      <td>10-07-23</td>\n",
              "      <td>Canada</td>\n",
              "      <td>41</td>\n",
              "      <td>Male</td>\n",
              "      <td>Smartphone</td>\n",
              "      <td>1 Month</td>\n",
              "    </tr>\n",
              "    <tr>\n",
              "      <th>915</th>\n",
              "      <td>916</td>\n",
              "      <td>Premium</td>\n",
              "      <td>12</td>\n",
              "      <td>26-10-22</td>\n",
              "      <td>01-07-23</td>\n",
              "      <td>France</td>\n",
              "      <td>50</td>\n",
              "      <td>Female</td>\n",
              "      <td>Smartphone</td>\n",
              "      <td>1 Month</td>\n",
              "    </tr>\n",
              "    <tr>\n",
              "      <th>580</th>\n",
              "      <td>581</td>\n",
              "      <td>Premium</td>\n",
              "      <td>10</td>\n",
              "      <td>02-08-22</td>\n",
              "      <td>29-06-23</td>\n",
              "      <td>United States</td>\n",
              "      <td>29</td>\n",
              "      <td>Female</td>\n",
              "      <td>Laptop</td>\n",
              "      <td>1 Month</td>\n",
              "    </tr>\n",
              "  </tbody>\n",
              "</table>\n",
              "</div>\n",
              "    <div class=\"colab-df-buttons\">\n",
              "\n",
              "  <div class=\"colab-df-container\">\n",
              "    <button class=\"colab-df-convert\" onclick=\"convertToInteractive('df-afd16767-dbaa-46de-a500-e4ea20bf1a68')\"\n",
              "            title=\"Convert this dataframe to an interactive table.\"\n",
              "            style=\"display:none;\">\n",
              "\n",
              "  <svg xmlns=\"http://www.w3.org/2000/svg\" height=\"24px\" viewBox=\"0 -960 960 960\">\n",
              "    <path d=\"M120-120v-720h720v720H120Zm60-500h600v-160H180v160Zm220 220h160v-160H400v160Zm0 220h160v-160H400v160ZM180-400h160v-160H180v160Zm440 0h160v-160H620v160ZM180-180h160v-160H180v160Zm440 0h160v-160H620v160Z\"/>\n",
              "  </svg>\n",
              "    </button>\n",
              "\n",
              "  <style>\n",
              "    .colab-df-container {\n",
              "      display:flex;\n",
              "      gap: 12px;\n",
              "    }\n",
              "\n",
              "    .colab-df-convert {\n",
              "      background-color: #E8F0FE;\n",
              "      border: none;\n",
              "      border-radius: 50%;\n",
              "      cursor: pointer;\n",
              "      display: none;\n",
              "      fill: #1967D2;\n",
              "      height: 32px;\n",
              "      padding: 0 0 0 0;\n",
              "      width: 32px;\n",
              "    }\n",
              "\n",
              "    .colab-df-convert:hover {\n",
              "      background-color: #E2EBFA;\n",
              "      box-shadow: 0px 1px 2px rgba(60, 64, 67, 0.3), 0px 1px 3px 1px rgba(60, 64, 67, 0.15);\n",
              "      fill: #174EA6;\n",
              "    }\n",
              "\n",
              "    .colab-df-buttons div {\n",
              "      margin-bottom: 4px;\n",
              "    }\n",
              "\n",
              "    [theme=dark] .colab-df-convert {\n",
              "      background-color: #3B4455;\n",
              "      fill: #D2E3FC;\n",
              "    }\n",
              "\n",
              "    [theme=dark] .colab-df-convert:hover {\n",
              "      background-color: #434B5C;\n",
              "      box-shadow: 0px 1px 3px 1px rgba(0, 0, 0, 0.15);\n",
              "      filter: drop-shadow(0px 1px 2px rgba(0, 0, 0, 0.3));\n",
              "      fill: #FFFFFF;\n",
              "    }\n",
              "  </style>\n",
              "\n",
              "    <script>\n",
              "      const buttonEl =\n",
              "        document.querySelector('#df-afd16767-dbaa-46de-a500-e4ea20bf1a68 button.colab-df-convert');\n",
              "      buttonEl.style.display =\n",
              "        google.colab.kernel.accessAllowed ? 'block' : 'none';\n",
              "\n",
              "      async function convertToInteractive(key) {\n",
              "        const element = document.querySelector('#df-afd16767-dbaa-46de-a500-e4ea20bf1a68');\n",
              "        const dataTable =\n",
              "          await google.colab.kernel.invokeFunction('convertToInteractive',\n",
              "                                                    [key], {});\n",
              "        if (!dataTable) return;\n",
              "\n",
              "        const docLinkHtml = 'Like what you see? Visit the ' +\n",
              "          '<a target=\"_blank\" href=https://colab.research.google.com/notebooks/data_table.ipynb>data table notebook</a>'\n",
              "          + ' to learn more about interactive tables.';\n",
              "        element.innerHTML = '';\n",
              "        dataTable['output_type'] = 'display_data';\n",
              "        await google.colab.output.renderOutput(dataTable, element);\n",
              "        const docLink = document.createElement('div');\n",
              "        docLink.innerHTML = docLinkHtml;\n",
              "        element.appendChild(docLink);\n",
              "      }\n",
              "    </script>\n",
              "  </div>\n",
              "\n",
              "\n",
              "<div id=\"df-71d522e9-cabe-42e4-b65e-3803aaad99ae\">\n",
              "  <button class=\"colab-df-quickchart\" onclick=\"quickchart('df-71d522e9-cabe-42e4-b65e-3803aaad99ae')\"\n",
              "            title=\"Suggest charts.\"\n",
              "            style=\"display:none;\">\n",
              "\n",
              "<svg xmlns=\"http://www.w3.org/2000/svg\" height=\"24px\"viewBox=\"0 0 24 24\"\n",
              "     width=\"24px\">\n",
              "    <g>\n",
              "        <path d=\"M19 3H5c-1.1 0-2 .9-2 2v14c0 1.1.9 2 2 2h14c1.1 0 2-.9 2-2V5c0-1.1-.9-2-2-2zM9 17H7v-7h2v7zm4 0h-2V7h2v10zm4 0h-2v-4h2v4z\"/>\n",
              "    </g>\n",
              "</svg>\n",
              "  </button>\n",
              "\n",
              "<style>\n",
              "  .colab-df-quickchart {\n",
              "      --bg-color: #E8F0FE;\n",
              "      --fill-color: #1967D2;\n",
              "      --hover-bg-color: #E2EBFA;\n",
              "      --hover-fill-color: #174EA6;\n",
              "      --disabled-fill-color: #AAA;\n",
              "      --disabled-bg-color: #DDD;\n",
              "  }\n",
              "\n",
              "  [theme=dark] .colab-df-quickchart {\n",
              "      --bg-color: #3B4455;\n",
              "      --fill-color: #D2E3FC;\n",
              "      --hover-bg-color: #434B5C;\n",
              "      --hover-fill-color: #FFFFFF;\n",
              "      --disabled-bg-color: #3B4455;\n",
              "      --disabled-fill-color: #666;\n",
              "  }\n",
              "\n",
              "  .colab-df-quickchart {\n",
              "    background-color: var(--bg-color);\n",
              "    border: none;\n",
              "    border-radius: 50%;\n",
              "    cursor: pointer;\n",
              "    display: none;\n",
              "    fill: var(--fill-color);\n",
              "    height: 32px;\n",
              "    padding: 0;\n",
              "    width: 32px;\n",
              "  }\n",
              "\n",
              "  .colab-df-quickchart:hover {\n",
              "    background-color: var(--hover-bg-color);\n",
              "    box-shadow: 0 1px 2px rgba(60, 64, 67, 0.3), 0 1px 3px 1px rgba(60, 64, 67, 0.15);\n",
              "    fill: var(--button-hover-fill-color);\n",
              "  }\n",
              "\n",
              "  .colab-df-quickchart-complete:disabled,\n",
              "  .colab-df-quickchart-complete:disabled:hover {\n",
              "    background-color: var(--disabled-bg-color);\n",
              "    fill: var(--disabled-fill-color);\n",
              "    box-shadow: none;\n",
              "  }\n",
              "\n",
              "  .colab-df-spinner {\n",
              "    border: 2px solid var(--fill-color);\n",
              "    border-color: transparent;\n",
              "    border-bottom-color: var(--fill-color);\n",
              "    animation:\n",
              "      spin 1s steps(1) infinite;\n",
              "  }\n",
              "\n",
              "  @keyframes spin {\n",
              "    0% {\n",
              "      border-color: transparent;\n",
              "      border-bottom-color: var(--fill-color);\n",
              "      border-left-color: var(--fill-color);\n",
              "    }\n",
              "    20% {\n",
              "      border-color: transparent;\n",
              "      border-left-color: var(--fill-color);\n",
              "      border-top-color: var(--fill-color);\n",
              "    }\n",
              "    30% {\n",
              "      border-color: transparent;\n",
              "      border-left-color: var(--fill-color);\n",
              "      border-top-color: var(--fill-color);\n",
              "      border-right-color: var(--fill-color);\n",
              "    }\n",
              "    40% {\n",
              "      border-color: transparent;\n",
              "      border-right-color: var(--fill-color);\n",
              "      border-top-color: var(--fill-color);\n",
              "    }\n",
              "    60% {\n",
              "      border-color: transparent;\n",
              "      border-right-color: var(--fill-color);\n",
              "    }\n",
              "    80% {\n",
              "      border-color: transparent;\n",
              "      border-right-color: var(--fill-color);\n",
              "      border-bottom-color: var(--fill-color);\n",
              "    }\n",
              "    90% {\n",
              "      border-color: transparent;\n",
              "      border-bottom-color: var(--fill-color);\n",
              "    }\n",
              "  }\n",
              "</style>\n",
              "\n",
              "  <script>\n",
              "    async function quickchart(key) {\n",
              "      const quickchartButtonEl =\n",
              "        document.querySelector('#' + key + ' button');\n",
              "      quickchartButtonEl.disabled = true;  // To prevent multiple clicks.\n",
              "      quickchartButtonEl.classList.add('colab-df-spinner');\n",
              "      try {\n",
              "        const charts = await google.colab.kernel.invokeFunction(\n",
              "            'suggestCharts', [key], {});\n",
              "      } catch (error) {\n",
              "        console.error('Error during call to suggestCharts:', error);\n",
              "      }\n",
              "      quickchartButtonEl.classList.remove('colab-df-spinner');\n",
              "      quickchartButtonEl.classList.add('colab-df-quickchart-complete');\n",
              "    }\n",
              "    (() => {\n",
              "      let quickchartButtonEl =\n",
              "        document.querySelector('#df-71d522e9-cabe-42e4-b65e-3803aaad99ae button');\n",
              "      quickchartButtonEl.style.display =\n",
              "        google.colab.kernel.accessAllowed ? 'block' : 'none';\n",
              "    })();\n",
              "  </script>\n",
              "</div>\n",
              "    </div>\n",
              "  </div>\n"
            ]
          },
          "metadata": {},
          "execution_count": 6
        }
      ]
    },
    {
      "cell_type": "code",
      "source": [
        "df.dtypes # menampilkan tipe atribut pada data"
      ],
      "metadata": {
        "colab": {
          "base_uri": "https://localhost:8080/"
        },
        "id": "EVhu9lVzz0-U",
        "outputId": "c6cb3412-c063-4a87-fc6a-f54e1cc17476"
      },
      "execution_count": null,
      "outputs": [
        {
          "output_type": "execute_result",
          "data": {
            "text/plain": [
              "User ID               int64\n",
              "Subscription Type    object\n",
              "Monthly Revenue       int64\n",
              "Join Date            object\n",
              "Last Payment Date    object\n",
              "Country              object\n",
              "Age                   int64\n",
              "Gender               object\n",
              "Device               object\n",
              "Plan Duration        object\n",
              "dtype: object"
            ]
          },
          "metadata": {},
          "execution_count": 7
        }
      ]
    },
    {
      "cell_type": "code",
      "source": [
        "df.describe() # menampilkan deskripsi data"
      ],
      "metadata": {
        "colab": {
          "base_uri": "https://localhost:8080/",
          "height": 300
        },
        "id": "6aoY4y17z4DV",
        "outputId": "7b6d88e0-c90b-48ba-d1b0-c361a060452b"
      },
      "execution_count": null,
      "outputs": [
        {
          "output_type": "execute_result",
          "data": {
            "text/plain": [
              "          User ID  Monthly Revenue          Age\n",
              "count  2500.00000      2500.000000  2500.000000\n",
              "mean   1250.50000        12.508400    38.795600\n",
              "std     721.83216         1.686851     7.171778\n",
              "min       1.00000        10.000000    26.000000\n",
              "25%     625.75000        11.000000    32.000000\n",
              "50%    1250.50000        12.000000    39.000000\n",
              "75%    1875.25000        14.000000    45.000000\n",
              "max    2500.00000        15.000000    51.000000"
            ],
            "text/html": [
              "\n",
              "  <div id=\"df-400bc923-60bd-4ffa-b073-ea6dcb709404\" class=\"colab-df-container\">\n",
              "    <div>\n",
              "<style scoped>\n",
              "    .dataframe tbody tr th:only-of-type {\n",
              "        vertical-align: middle;\n",
              "    }\n",
              "\n",
              "    .dataframe tbody tr th {\n",
              "        vertical-align: top;\n",
              "    }\n",
              "\n",
              "    .dataframe thead th {\n",
              "        text-align: right;\n",
              "    }\n",
              "</style>\n",
              "<table border=\"1\" class=\"dataframe\">\n",
              "  <thead>\n",
              "    <tr style=\"text-align: right;\">\n",
              "      <th></th>\n",
              "      <th>User ID</th>\n",
              "      <th>Monthly Revenue</th>\n",
              "      <th>Age</th>\n",
              "    </tr>\n",
              "  </thead>\n",
              "  <tbody>\n",
              "    <tr>\n",
              "      <th>count</th>\n",
              "      <td>2500.00000</td>\n",
              "      <td>2500.000000</td>\n",
              "      <td>2500.000000</td>\n",
              "    </tr>\n",
              "    <tr>\n",
              "      <th>mean</th>\n",
              "      <td>1250.50000</td>\n",
              "      <td>12.508400</td>\n",
              "      <td>38.795600</td>\n",
              "    </tr>\n",
              "    <tr>\n",
              "      <th>std</th>\n",
              "      <td>721.83216</td>\n",
              "      <td>1.686851</td>\n",
              "      <td>7.171778</td>\n",
              "    </tr>\n",
              "    <tr>\n",
              "      <th>min</th>\n",
              "      <td>1.00000</td>\n",
              "      <td>10.000000</td>\n",
              "      <td>26.000000</td>\n",
              "    </tr>\n",
              "    <tr>\n",
              "      <th>25%</th>\n",
              "      <td>625.75000</td>\n",
              "      <td>11.000000</td>\n",
              "      <td>32.000000</td>\n",
              "    </tr>\n",
              "    <tr>\n",
              "      <th>50%</th>\n",
              "      <td>1250.50000</td>\n",
              "      <td>12.000000</td>\n",
              "      <td>39.000000</td>\n",
              "    </tr>\n",
              "    <tr>\n",
              "      <th>75%</th>\n",
              "      <td>1875.25000</td>\n",
              "      <td>14.000000</td>\n",
              "      <td>45.000000</td>\n",
              "    </tr>\n",
              "    <tr>\n",
              "      <th>max</th>\n",
              "      <td>2500.00000</td>\n",
              "      <td>15.000000</td>\n",
              "      <td>51.000000</td>\n",
              "    </tr>\n",
              "  </tbody>\n",
              "</table>\n",
              "</div>\n",
              "    <div class=\"colab-df-buttons\">\n",
              "\n",
              "  <div class=\"colab-df-container\">\n",
              "    <button class=\"colab-df-convert\" onclick=\"convertToInteractive('df-400bc923-60bd-4ffa-b073-ea6dcb709404')\"\n",
              "            title=\"Convert this dataframe to an interactive table.\"\n",
              "            style=\"display:none;\">\n",
              "\n",
              "  <svg xmlns=\"http://www.w3.org/2000/svg\" height=\"24px\" viewBox=\"0 -960 960 960\">\n",
              "    <path d=\"M120-120v-720h720v720H120Zm60-500h600v-160H180v160Zm220 220h160v-160H400v160Zm0 220h160v-160H400v160ZM180-400h160v-160H180v160Zm440 0h160v-160H620v160ZM180-180h160v-160H180v160Zm440 0h160v-160H620v160Z\"/>\n",
              "  </svg>\n",
              "    </button>\n",
              "\n",
              "  <style>\n",
              "    .colab-df-container {\n",
              "      display:flex;\n",
              "      gap: 12px;\n",
              "    }\n",
              "\n",
              "    .colab-df-convert {\n",
              "      background-color: #E8F0FE;\n",
              "      border: none;\n",
              "      border-radius: 50%;\n",
              "      cursor: pointer;\n",
              "      display: none;\n",
              "      fill: #1967D2;\n",
              "      height: 32px;\n",
              "      padding: 0 0 0 0;\n",
              "      width: 32px;\n",
              "    }\n",
              "\n",
              "    .colab-df-convert:hover {\n",
              "      background-color: #E2EBFA;\n",
              "      box-shadow: 0px 1px 2px rgba(60, 64, 67, 0.3), 0px 1px 3px 1px rgba(60, 64, 67, 0.15);\n",
              "      fill: #174EA6;\n",
              "    }\n",
              "\n",
              "    .colab-df-buttons div {\n",
              "      margin-bottom: 4px;\n",
              "    }\n",
              "\n",
              "    [theme=dark] .colab-df-convert {\n",
              "      background-color: #3B4455;\n",
              "      fill: #D2E3FC;\n",
              "    }\n",
              "\n",
              "    [theme=dark] .colab-df-convert:hover {\n",
              "      background-color: #434B5C;\n",
              "      box-shadow: 0px 1px 3px 1px rgba(0, 0, 0, 0.15);\n",
              "      filter: drop-shadow(0px 1px 2px rgba(0, 0, 0, 0.3));\n",
              "      fill: #FFFFFF;\n",
              "    }\n",
              "  </style>\n",
              "\n",
              "    <script>\n",
              "      const buttonEl =\n",
              "        document.querySelector('#df-400bc923-60bd-4ffa-b073-ea6dcb709404 button.colab-df-convert');\n",
              "      buttonEl.style.display =\n",
              "        google.colab.kernel.accessAllowed ? 'block' : 'none';\n",
              "\n",
              "      async function convertToInteractive(key) {\n",
              "        const element = document.querySelector('#df-400bc923-60bd-4ffa-b073-ea6dcb709404');\n",
              "        const dataTable =\n",
              "          await google.colab.kernel.invokeFunction('convertToInteractive',\n",
              "                                                    [key], {});\n",
              "        if (!dataTable) return;\n",
              "\n",
              "        const docLinkHtml = 'Like what you see? Visit the ' +\n",
              "          '<a target=\"_blank\" href=https://colab.research.google.com/notebooks/data_table.ipynb>data table notebook</a>'\n",
              "          + ' to learn more about interactive tables.';\n",
              "        element.innerHTML = '';\n",
              "        dataTable['output_type'] = 'display_data';\n",
              "        await google.colab.output.renderOutput(dataTable, element);\n",
              "        const docLink = document.createElement('div');\n",
              "        docLink.innerHTML = docLinkHtml;\n",
              "        element.appendChild(docLink);\n",
              "      }\n",
              "    </script>\n",
              "  </div>\n",
              "\n",
              "\n",
              "<div id=\"df-bee9cde8-37de-4c50-bda5-fb130555d4b3\">\n",
              "  <button class=\"colab-df-quickchart\" onclick=\"quickchart('df-bee9cde8-37de-4c50-bda5-fb130555d4b3')\"\n",
              "            title=\"Suggest charts.\"\n",
              "            style=\"display:none;\">\n",
              "\n",
              "<svg xmlns=\"http://www.w3.org/2000/svg\" height=\"24px\"viewBox=\"0 0 24 24\"\n",
              "     width=\"24px\">\n",
              "    <g>\n",
              "        <path d=\"M19 3H5c-1.1 0-2 .9-2 2v14c0 1.1.9 2 2 2h14c1.1 0 2-.9 2-2V5c0-1.1-.9-2-2-2zM9 17H7v-7h2v7zm4 0h-2V7h2v10zm4 0h-2v-4h2v4z\"/>\n",
              "    </g>\n",
              "</svg>\n",
              "  </button>\n",
              "\n",
              "<style>\n",
              "  .colab-df-quickchart {\n",
              "      --bg-color: #E8F0FE;\n",
              "      --fill-color: #1967D2;\n",
              "      --hover-bg-color: #E2EBFA;\n",
              "      --hover-fill-color: #174EA6;\n",
              "      --disabled-fill-color: #AAA;\n",
              "      --disabled-bg-color: #DDD;\n",
              "  }\n",
              "\n",
              "  [theme=dark] .colab-df-quickchart {\n",
              "      --bg-color: #3B4455;\n",
              "      --fill-color: #D2E3FC;\n",
              "      --hover-bg-color: #434B5C;\n",
              "      --hover-fill-color: #FFFFFF;\n",
              "      --disabled-bg-color: #3B4455;\n",
              "      --disabled-fill-color: #666;\n",
              "  }\n",
              "\n",
              "  .colab-df-quickchart {\n",
              "    background-color: var(--bg-color);\n",
              "    border: none;\n",
              "    border-radius: 50%;\n",
              "    cursor: pointer;\n",
              "    display: none;\n",
              "    fill: var(--fill-color);\n",
              "    height: 32px;\n",
              "    padding: 0;\n",
              "    width: 32px;\n",
              "  }\n",
              "\n",
              "  .colab-df-quickchart:hover {\n",
              "    background-color: var(--hover-bg-color);\n",
              "    box-shadow: 0 1px 2px rgba(60, 64, 67, 0.3), 0 1px 3px 1px rgba(60, 64, 67, 0.15);\n",
              "    fill: var(--button-hover-fill-color);\n",
              "  }\n",
              "\n",
              "  .colab-df-quickchart-complete:disabled,\n",
              "  .colab-df-quickchart-complete:disabled:hover {\n",
              "    background-color: var(--disabled-bg-color);\n",
              "    fill: var(--disabled-fill-color);\n",
              "    box-shadow: none;\n",
              "  }\n",
              "\n",
              "  .colab-df-spinner {\n",
              "    border: 2px solid var(--fill-color);\n",
              "    border-color: transparent;\n",
              "    border-bottom-color: var(--fill-color);\n",
              "    animation:\n",
              "      spin 1s steps(1) infinite;\n",
              "  }\n",
              "\n",
              "  @keyframes spin {\n",
              "    0% {\n",
              "      border-color: transparent;\n",
              "      border-bottom-color: var(--fill-color);\n",
              "      border-left-color: var(--fill-color);\n",
              "    }\n",
              "    20% {\n",
              "      border-color: transparent;\n",
              "      border-left-color: var(--fill-color);\n",
              "      border-top-color: var(--fill-color);\n",
              "    }\n",
              "    30% {\n",
              "      border-color: transparent;\n",
              "      border-left-color: var(--fill-color);\n",
              "      border-top-color: var(--fill-color);\n",
              "      border-right-color: var(--fill-color);\n",
              "    }\n",
              "    40% {\n",
              "      border-color: transparent;\n",
              "      border-right-color: var(--fill-color);\n",
              "      border-top-color: var(--fill-color);\n",
              "    }\n",
              "    60% {\n",
              "      border-color: transparent;\n",
              "      border-right-color: var(--fill-color);\n",
              "    }\n",
              "    80% {\n",
              "      border-color: transparent;\n",
              "      border-right-color: var(--fill-color);\n",
              "      border-bottom-color: var(--fill-color);\n",
              "    }\n",
              "    90% {\n",
              "      border-color: transparent;\n",
              "      border-bottom-color: var(--fill-color);\n",
              "    }\n",
              "  }\n",
              "</style>\n",
              "\n",
              "  <script>\n",
              "    async function quickchart(key) {\n",
              "      const quickchartButtonEl =\n",
              "        document.querySelector('#' + key + ' button');\n",
              "      quickchartButtonEl.disabled = true;  // To prevent multiple clicks.\n",
              "      quickchartButtonEl.classList.add('colab-df-spinner');\n",
              "      try {\n",
              "        const charts = await google.colab.kernel.invokeFunction(\n",
              "            'suggestCharts', [key], {});\n",
              "      } catch (error) {\n",
              "        console.error('Error during call to suggestCharts:', error);\n",
              "      }\n",
              "      quickchartButtonEl.classList.remove('colab-df-spinner');\n",
              "      quickchartButtonEl.classList.add('colab-df-quickchart-complete');\n",
              "    }\n",
              "    (() => {\n",
              "      let quickchartButtonEl =\n",
              "        document.querySelector('#df-bee9cde8-37de-4c50-bda5-fb130555d4b3 button');\n",
              "      quickchartButtonEl.style.display =\n",
              "        google.colab.kernel.accessAllowed ? 'block' : 'none';\n",
              "    })();\n",
              "  </script>\n",
              "</div>\n",
              "    </div>\n",
              "  </div>\n"
            ]
          },
          "metadata": {},
          "execution_count": 8
        }
      ]
    },
    {
      "cell_type": "code",
      "source": [
        "df.isnull().sum() # mengidentifikasi missing value"
      ],
      "metadata": {
        "id": "1m-MbVt6z-ol",
        "outputId": "de96743f-542e-4d27-e1b0-2028b09109e3",
        "colab": {
          "base_uri": "https://localhost:8080/"
        }
      },
      "execution_count": null,
      "outputs": [
        {
          "output_type": "execute_result",
          "data": {
            "text/plain": [
              "User ID              0\n",
              "Subscription Type    0\n",
              "Monthly Revenue      0\n",
              "Join Date            0\n",
              "Last Payment Date    0\n",
              "Country              0\n",
              "Age                  0\n",
              "Gender               0\n",
              "Device               0\n",
              "Plan Duration        0\n",
              "dtype: int64"
            ]
          },
          "metadata": {},
          "execution_count": 9
        }
      ]
    },
    {
      "cell_type": "markdown",
      "source": [
        "**HASIL** : dapat dilihat bahwa pada dataset ini terdapat 0 missing value (no null values)"
      ],
      "metadata": {
        "id": "EJShHs9LghSg"
      }
    },
    {
      "cell_type": "code",
      "source": [
        "kor = df.corr () # mengecek korelasi pada data\n",
        "kor # menampilkan nilai korelasi"
      ],
      "metadata": {
        "colab": {
          "base_uri": "https://localhost:8080/",
          "height": 198
        },
        "id": "PaH1h3-n8Pok",
        "outputId": "d19d0a20-da58-41de-8315-af18c71cefb2"
      },
      "execution_count": null,
      "outputs": [
        {
          "output_type": "stream",
          "name": "stderr",
          "text": [
            "<ipython-input-60-6efeb43b3de4>:1: FutureWarning: The default value of numeric_only in DataFrame.corr is deprecated. In a future version, it will default to False. Select only valid columns or specify the value of numeric_only to silence this warning.\n",
            "  kor = df.corr()\n"
          ]
        },
        {
          "output_type": "execute_result",
          "data": {
            "text/plain": [
              "                  User ID  Monthly Revenue       Age\n",
              "User ID          1.000000        -0.004809  0.008065\n",
              "Monthly Revenue -0.004809         1.000000 -0.021143\n",
              "Age              0.008065        -0.021143  1.000000"
            ],
            "text/html": [
              "\n",
              "  <div id=\"df-c04163a1-b085-4c26-8ad5-70b659737e67\" class=\"colab-df-container\">\n",
              "    <div>\n",
              "<style scoped>\n",
              "    .dataframe tbody tr th:only-of-type {\n",
              "        vertical-align: middle;\n",
              "    }\n",
              "\n",
              "    .dataframe tbody tr th {\n",
              "        vertical-align: top;\n",
              "    }\n",
              "\n",
              "    .dataframe thead th {\n",
              "        text-align: right;\n",
              "    }\n",
              "</style>\n",
              "<table border=\"1\" class=\"dataframe\">\n",
              "  <thead>\n",
              "    <tr style=\"text-align: right;\">\n",
              "      <th></th>\n",
              "      <th>User ID</th>\n",
              "      <th>Monthly Revenue</th>\n",
              "      <th>Age</th>\n",
              "    </tr>\n",
              "  </thead>\n",
              "  <tbody>\n",
              "    <tr>\n",
              "      <th>User ID</th>\n",
              "      <td>1.000000</td>\n",
              "      <td>-0.004809</td>\n",
              "      <td>0.008065</td>\n",
              "    </tr>\n",
              "    <tr>\n",
              "      <th>Monthly Revenue</th>\n",
              "      <td>-0.004809</td>\n",
              "      <td>1.000000</td>\n",
              "      <td>-0.021143</td>\n",
              "    </tr>\n",
              "    <tr>\n",
              "      <th>Age</th>\n",
              "      <td>0.008065</td>\n",
              "      <td>-0.021143</td>\n",
              "      <td>1.000000</td>\n",
              "    </tr>\n",
              "  </tbody>\n",
              "</table>\n",
              "</div>\n",
              "    <div class=\"colab-df-buttons\">\n",
              "\n",
              "  <div class=\"colab-df-container\">\n",
              "    <button class=\"colab-df-convert\" onclick=\"convertToInteractive('df-c04163a1-b085-4c26-8ad5-70b659737e67')\"\n",
              "            title=\"Convert this dataframe to an interactive table.\"\n",
              "            style=\"display:none;\">\n",
              "\n",
              "  <svg xmlns=\"http://www.w3.org/2000/svg\" height=\"24px\" viewBox=\"0 -960 960 960\">\n",
              "    <path d=\"M120-120v-720h720v720H120Zm60-500h600v-160H180v160Zm220 220h160v-160H400v160Zm0 220h160v-160H400v160ZM180-400h160v-160H180v160Zm440 0h160v-160H620v160ZM180-180h160v-160H180v160Zm440 0h160v-160H620v160Z\"/>\n",
              "  </svg>\n",
              "    </button>\n",
              "\n",
              "  <style>\n",
              "    .colab-df-container {\n",
              "      display:flex;\n",
              "      gap: 12px;\n",
              "    }\n",
              "\n",
              "    .colab-df-convert {\n",
              "      background-color: #E8F0FE;\n",
              "      border: none;\n",
              "      border-radius: 50%;\n",
              "      cursor: pointer;\n",
              "      display: none;\n",
              "      fill: #1967D2;\n",
              "      height: 32px;\n",
              "      padding: 0 0 0 0;\n",
              "      width: 32px;\n",
              "    }\n",
              "\n",
              "    .colab-df-convert:hover {\n",
              "      background-color: #E2EBFA;\n",
              "      box-shadow: 0px 1px 2px rgba(60, 64, 67, 0.3), 0px 1px 3px 1px rgba(60, 64, 67, 0.15);\n",
              "      fill: #174EA6;\n",
              "    }\n",
              "\n",
              "    .colab-df-buttons div {\n",
              "      margin-bottom: 4px;\n",
              "    }\n",
              "\n",
              "    [theme=dark] .colab-df-convert {\n",
              "      background-color: #3B4455;\n",
              "      fill: #D2E3FC;\n",
              "    }\n",
              "\n",
              "    [theme=dark] .colab-df-convert:hover {\n",
              "      background-color: #434B5C;\n",
              "      box-shadow: 0px 1px 3px 1px rgba(0, 0, 0, 0.15);\n",
              "      filter: drop-shadow(0px 1px 2px rgba(0, 0, 0, 0.3));\n",
              "      fill: #FFFFFF;\n",
              "    }\n",
              "  </style>\n",
              "\n",
              "    <script>\n",
              "      const buttonEl =\n",
              "        document.querySelector('#df-c04163a1-b085-4c26-8ad5-70b659737e67 button.colab-df-convert');\n",
              "      buttonEl.style.display =\n",
              "        google.colab.kernel.accessAllowed ? 'block' : 'none';\n",
              "\n",
              "      async function convertToInteractive(key) {\n",
              "        const element = document.querySelector('#df-c04163a1-b085-4c26-8ad5-70b659737e67');\n",
              "        const dataTable =\n",
              "          await google.colab.kernel.invokeFunction('convertToInteractive',\n",
              "                                                    [key], {});\n",
              "        if (!dataTable) return;\n",
              "\n",
              "        const docLinkHtml = 'Like what you see? Visit the ' +\n",
              "          '<a target=\"_blank\" href=https://colab.research.google.com/notebooks/data_table.ipynb>data table notebook</a>'\n",
              "          + ' to learn more about interactive tables.';\n",
              "        element.innerHTML = '';\n",
              "        dataTable['output_type'] = 'display_data';\n",
              "        await google.colab.output.renderOutput(dataTable, element);\n",
              "        const docLink = document.createElement('div');\n",
              "        docLink.innerHTML = docLinkHtml;\n",
              "        element.appendChild(docLink);\n",
              "      }\n",
              "    </script>\n",
              "  </div>\n",
              "\n",
              "\n",
              "<div id=\"df-6eeb423a-1250-4faf-8545-8dc353356a2f\">\n",
              "  <button class=\"colab-df-quickchart\" onclick=\"quickchart('df-6eeb423a-1250-4faf-8545-8dc353356a2f')\"\n",
              "            title=\"Suggest charts.\"\n",
              "            style=\"display:none;\">\n",
              "\n",
              "<svg xmlns=\"http://www.w3.org/2000/svg\" height=\"24px\"viewBox=\"0 0 24 24\"\n",
              "     width=\"24px\">\n",
              "    <g>\n",
              "        <path d=\"M19 3H5c-1.1 0-2 .9-2 2v14c0 1.1.9 2 2 2h14c1.1 0 2-.9 2-2V5c0-1.1-.9-2-2-2zM9 17H7v-7h2v7zm4 0h-2V7h2v10zm4 0h-2v-4h2v4z\"/>\n",
              "    </g>\n",
              "</svg>\n",
              "  </button>\n",
              "\n",
              "<style>\n",
              "  .colab-df-quickchart {\n",
              "      --bg-color: #E8F0FE;\n",
              "      --fill-color: #1967D2;\n",
              "      --hover-bg-color: #E2EBFA;\n",
              "      --hover-fill-color: #174EA6;\n",
              "      --disabled-fill-color: #AAA;\n",
              "      --disabled-bg-color: #DDD;\n",
              "  }\n",
              "\n",
              "  [theme=dark] .colab-df-quickchart {\n",
              "      --bg-color: #3B4455;\n",
              "      --fill-color: #D2E3FC;\n",
              "      --hover-bg-color: #434B5C;\n",
              "      --hover-fill-color: #FFFFFF;\n",
              "      --disabled-bg-color: #3B4455;\n",
              "      --disabled-fill-color: #666;\n",
              "  }\n",
              "\n",
              "  .colab-df-quickchart {\n",
              "    background-color: var(--bg-color);\n",
              "    border: none;\n",
              "    border-radius: 50%;\n",
              "    cursor: pointer;\n",
              "    display: none;\n",
              "    fill: var(--fill-color);\n",
              "    height: 32px;\n",
              "    padding: 0;\n",
              "    width: 32px;\n",
              "  }\n",
              "\n",
              "  .colab-df-quickchart:hover {\n",
              "    background-color: var(--hover-bg-color);\n",
              "    box-shadow: 0 1px 2px rgba(60, 64, 67, 0.3), 0 1px 3px 1px rgba(60, 64, 67, 0.15);\n",
              "    fill: var(--button-hover-fill-color);\n",
              "  }\n",
              "\n",
              "  .colab-df-quickchart-complete:disabled,\n",
              "  .colab-df-quickchart-complete:disabled:hover {\n",
              "    background-color: var(--disabled-bg-color);\n",
              "    fill: var(--disabled-fill-color);\n",
              "    box-shadow: none;\n",
              "  }\n",
              "\n",
              "  .colab-df-spinner {\n",
              "    border: 2px solid var(--fill-color);\n",
              "    border-color: transparent;\n",
              "    border-bottom-color: var(--fill-color);\n",
              "    animation:\n",
              "      spin 1s steps(1) infinite;\n",
              "  }\n",
              "\n",
              "  @keyframes spin {\n",
              "    0% {\n",
              "      border-color: transparent;\n",
              "      border-bottom-color: var(--fill-color);\n",
              "      border-left-color: var(--fill-color);\n",
              "    }\n",
              "    20% {\n",
              "      border-color: transparent;\n",
              "      border-left-color: var(--fill-color);\n",
              "      border-top-color: var(--fill-color);\n",
              "    }\n",
              "    30% {\n",
              "      border-color: transparent;\n",
              "      border-left-color: var(--fill-color);\n",
              "      border-top-color: var(--fill-color);\n",
              "      border-right-color: var(--fill-color);\n",
              "    }\n",
              "    40% {\n",
              "      border-color: transparent;\n",
              "      border-right-color: var(--fill-color);\n",
              "      border-top-color: var(--fill-color);\n",
              "    }\n",
              "    60% {\n",
              "      border-color: transparent;\n",
              "      border-right-color: var(--fill-color);\n",
              "    }\n",
              "    80% {\n",
              "      border-color: transparent;\n",
              "      border-right-color: var(--fill-color);\n",
              "      border-bottom-color: var(--fill-color);\n",
              "    }\n",
              "    90% {\n",
              "      border-color: transparent;\n",
              "      border-bottom-color: var(--fill-color);\n",
              "    }\n",
              "  }\n",
              "</style>\n",
              "\n",
              "  <script>\n",
              "    async function quickchart(key) {\n",
              "      const quickchartButtonEl =\n",
              "        document.querySelector('#' + key + ' button');\n",
              "      quickchartButtonEl.disabled = true;  // To prevent multiple clicks.\n",
              "      quickchartButtonEl.classList.add('colab-df-spinner');\n",
              "      try {\n",
              "        const charts = await google.colab.kernel.invokeFunction(\n",
              "            'suggestCharts', [key], {});\n",
              "      } catch (error) {\n",
              "        console.error('Error during call to suggestCharts:', error);\n",
              "      }\n",
              "      quickchartButtonEl.classList.remove('colab-df-spinner');\n",
              "      quickchartButtonEl.classList.add('colab-df-quickchart-complete');\n",
              "    }\n",
              "    (() => {\n",
              "      let quickchartButtonEl =\n",
              "        document.querySelector('#df-6eeb423a-1250-4faf-8545-8dc353356a2f button');\n",
              "      quickchartButtonEl.style.display =\n",
              "        google.colab.kernel.accessAllowed ? 'block' : 'none';\n",
              "    })();\n",
              "  </script>\n",
              "</div>\n",
              "    </div>\n",
              "  </div>\n"
            ]
          },
          "metadata": {},
          "execution_count": 60
        }
      ]
    },
    {
      "cell_type": "code",
      "source": [
        "import seaborn as sns # mengimport seaborn untuk visualisasi\n",
        "sns.heatmap(kor) # menampilkan matriks korelasi berupa heatmap"
      ],
      "metadata": {
        "colab": {
          "base_uri": "https://localhost:8080/",
          "height": 452
        },
        "id": "4sjqS2bu8ool",
        "outputId": "64876d99-def6-465a-c3d3-95b2cd2ab3ba"
      },
      "execution_count": null,
      "outputs": [
        {
          "output_type": "execute_result",
          "data": {
            "text/plain": [
              "<Axes: >"
            ]
          },
          "metadata": {},
          "execution_count": 61
        },
        {
          "output_type": "display_data",
          "data": {
            "text/plain": [
              "<Figure size 640x480 with 2 Axes>"
            ],
            "image/png": "[encoded data removed]"
          },
          "metadata": {}
        }
      ]
    },
    {
      "cell_type": "markdown",
      "source": [
        "**HASIL** : Warna pada heatmaps yang ditampilkan menggambarkan tingkat korelasi antara dua kolom. Skala warna tersebut memberikan referensi terhadap nilai korelasinya, jika warna semakin muda maka korelasi antar variabel semakin positif begitu sebaliknya pada korelasi yang menghasilkan warna yang gelap."
      ],
      "metadata": {
        "id": "ygDGVKA-42_4"
      }
    },
    {
      "cell_type": "code",
      "source": [
        "sns.boxplot(df) # untuk membuat sebuah boxplot"
      ],
      "metadata": {
        "colab": {
          "base_uri": "https://localhost:8080/",
          "height": 447
        },
        "id": "N_EY0Pz18wtZ",
        "outputId": "408154db-55f0-40c1-f30e-06edd1529f8e"
      },
      "execution_count": null,
      "outputs": [
        {
          "output_type": "execute_result",
          "data": {
            "text/plain": [
              "<Axes: >"
            ]
          },
          "metadata": {},
          "execution_count": 56
        },
        {
          "output_type": "display_data",
          "data": {
            "text/plain": [
              "<Figure size 640x480 with 1 Axes>"
            ],
            "image/png": "[encoded data removed]"
          },
          "metadata": {}
        }
      ]
    },
    {
      "cell_type": "code",
      "source": [
        "df.info() # menampilkan ringkasan informasi pada data"
      ],
      "metadata": {
        "id": "4RgJAKh8DMbv",
        "outputId": "b2b69108-a016-4b63-af41-7f2ced5a9df0",
        "colab": {
          "base_uri": "https://localhost:8080/"
        }
      },
      "execution_count": null,
      "outputs": [
        {
          "output_type": "stream",
          "name": "stdout",
          "text": [
            "<class 'pandas.core.frame.DataFrame'>\n",
            "RangeIndex: 2500 entries, 0 to 2499\n",
            "Data columns (total 10 columns):\n",
            " #   Column             Non-Null Count  Dtype \n",
            "---  ------             --------------  ----- \n",
            " 0   User ID            2500 non-null   int64 \n",
            " 1   Subscription Type  2500 non-null   object\n",
            " 2   Monthly Revenue    2500 non-null   int64 \n",
            " 3   Join Date          2500 non-null   object\n",
            " 4   Last Payment Date  2500 non-null   object\n",
            " 5   Country            2500 non-null   object\n",
            " 6   Age                2500 non-null   int64 \n",
            " 7   Gender             2500 non-null   object\n",
            " 8   Device             2500 non-null   object\n",
            " 9   Plan Duration      2500 non-null   object\n",
            "dtypes: int64(3), object(7)\n",
            "memory usage: 195.4+ KB\n"
          ]
        }
      ]
    },
    {
      "cell_type": "markdown",
      "source": [
        "#### Kolom 1 :"
      ],
      "metadata": {
        "id": "ii6p9ClPMHGI"
      }
    },
    {
      "cell_type": "code",
      "source": [
        "df['User ID'].unique() # menampilkan variabel pada atribut User ID"
      ],
      "metadata": {
        "id": "v5fLo7WP83Wa",
        "outputId": "97df9962-887b-467f-8aa2-207900b87bdb",
        "colab": {
          "base_uri": "https://localhost:8080/"
        }
      },
      "execution_count": null,
      "outputs": [
        {
          "output_type": "execute_result",
          "data": {
            "text/plain": [
              "array([   1,    2,    3, ..., 2498, 2499, 2500])"
            ]
          },
          "metadata": {},
          "execution_count": 14
        }
      ]
    },
    {
      "cell_type": "code",
      "source": [
        "df['User ID'].value_counts() # menampilkan nilai komposisi data pada atribut User ID"
      ],
      "metadata": {
        "id": "ws8GfOhX8-I_",
        "colab": {
          "base_uri": "https://localhost:8080/"
        },
        "outputId": "2d0e7800-ba45-43f5-a1d4-ce77ace5469d"
      },
      "execution_count": null,
      "outputs": [
        {
          "output_type": "execute_result",
          "data": {
            "text/plain": [
              "1       1\n",
              "1671    1\n",
              "1664    1\n",
              "1665    1\n",
              "1666    1\n",
              "       ..\n",
              "834     1\n",
              "835     1\n",
              "836     1\n",
              "837     1\n",
              "2500    1\n",
              "Name: User ID, Length: 2500, dtype: int64"
            ]
          },
          "metadata": {},
          "execution_count": 15
        }
      ]
    },
    {
      "cell_type": "code",
      "source": [
        "sns.boxplot(df['User ID']) # menampilkan data berupa boxplot pada atribut User ID untuk mengetahui adanya outlier"
      ],
      "metadata": {
        "colab": {
          "base_uri": "https://localhost:8080/",
          "height": 447
        },
        "id": "M9peFpJvMJCC",
        "outputId": "256888aa-a84e-49f2-85a1-1bc30a44c458"
      },
      "execution_count": null,
      "outputs": [
        {
          "output_type": "execute_result",
          "data": {
            "text/plain": [
              "<Axes: >"
            ]
          },
          "metadata": {},
          "execution_count": 36
        },
        {
          "output_type": "display_data",
          "data": {
            "text/plain": [
              "<Figure size 640x480 with 1 Axes>"
            ],
            "image/png": "[encoded data removed]"
          },
          "metadata": {}
        }
      ]
    },
    {
      "cell_type": "markdown",
      "source": [
        "**HASIL** : Dari grafik boxplot diatas dapat kita ketahui bahwa tidak adanya outlier pada User ID."
      ],
      "metadata": {
        "id": "fVnzPDWPrpfd"
      }
    },
    {
      "cell_type": "markdown",
      "source": [
        "#### Kolom 2 :"
      ],
      "metadata": {
        "id": "mmqnX4vUKFj1"
      }
    },
    {
      "cell_type": "code",
      "source": [
        "df['Subscription Type'].unique() # menampilkan variabel pada atribut Subscription Type"
      ],
      "metadata": {
        "colab": {
          "base_uri": "https://localhost:8080/"
        },
        "id": "ZsfvX0PeJYmA",
        "outputId": "72727e5e-928b-4746-fdd1-45da7ecc5440"
      },
      "execution_count": null,
      "outputs": [
        {
          "output_type": "execute_result",
          "data": {
            "text/plain": [
              "array(['Basic', 'Premium', 'Standard'], dtype=object)"
            ]
          },
          "metadata": {},
          "execution_count": 16
        }
      ]
    },
    {
      "cell_type": "code",
      "source": [
        "dataST = df['Subscription Type'].value_counts() # menampilkan variabel pada atribut Subscription Type\n",
        "dataST # menampilkan data"
      ],
      "metadata": {
        "colab": {
          "base_uri": "https://localhost:8080/"
        },
        "id": "aXfLaraeJ7he",
        "outputId": "ec570fbc-bf87-4dc0-9ee5-cee7fb6a06ce"
      },
      "execution_count": null,
      "outputs": [
        {
          "output_type": "execute_result",
          "data": {
            "text/plain": [
              "Basic       999\n",
              "Standard    768\n",
              "Premium     733\n",
              "Name: Subscription Type, dtype: int64"
            ]
          },
          "metadata": {},
          "execution_count": 66
        }
      ]
    },
    {
      "cell_type": "code",
      "source": [
        "sns.boxplot(dataST) # menampilkan data berupa boxplot pada atribut Subscription Type untuk mengetahui adanya outlier"
      ],
      "metadata": {
        "colab": {
          "base_uri": "https://localhost:8080/",
          "height": 447
        },
        "id": "RytVjynLPHba",
        "outputId": "aa25f991-dbe5-495d-d5ff-09cbfba6131e"
      },
      "execution_count": null,
      "outputs": [
        {
          "output_type": "execute_result",
          "data": {
            "text/plain": [
              "<Axes: >"
            ]
          },
          "metadata": {},
          "execution_count": 67
        },
        {
          "output_type": "display_data",
          "data": {
            "text/plain": [
              "<Figure size 640x480 with 1 Axes>"
            ],
            "image/png": "[encoded data removed]"
          },
          "metadata": {}
        }
      ]
    },
    {
      "cell_type": "markdown",
      "source": [
        "**HASIL** : Dari grafik boxplot diatas dapat kita ketahui bahwa tidak adanya outlier pada Subscription Type."
      ],
      "metadata": {
        "id": "GA43Ko4zsGeu"
      }
    },
    {
      "cell_type": "markdown",
      "source": [
        "#### Kolom 3 :"
      ],
      "metadata": {
        "id": "yG5wPHrpKHe8"
      }
    },
    {
      "cell_type": "code",
      "source": [
        "df['Plan Duration'].unique() # menampilkan variabel pada atribut Plan Duration"
      ],
      "metadata": {
        "colab": {
          "base_uri": "https://localhost:8080/"
        },
        "id": "X_6x34R3KI1P",
        "outputId": "4e993fe7-0ac7-4959-84f8-491c15ce0234"
      },
      "execution_count": null,
      "outputs": [
        {
          "output_type": "execute_result",
          "data": {
            "text/plain": [
              "array(['1 Month'], dtype=object)"
            ]
          },
          "metadata": {},
          "execution_count": 18
        }
      ]
    },
    {
      "cell_type": "code",
      "source": [
        "datapd=df['Plan Duration'].value_counts() # menampilkan nilai komposisi data pada atribut Plan Duration\n",
        "datapd # menampilkan data"
      ],
      "metadata": {
        "colab": {
          "base_uri": "https://localhost:8080/"
        },
        "id": "hguzkE79KO6h",
        "outputId": "033c9e0f-693f-41b3-b013-cb64d9275e88"
      },
      "execution_count": null,
      "outputs": [
        {
          "output_type": "execute_result",
          "data": {
            "text/plain": [
              "1 Month    2500\n",
              "Name: Plan Duration, dtype: int64"
            ]
          },
          "metadata": {},
          "execution_count": 68
        }
      ]
    },
    {
      "cell_type": "code",
      "source": [
        "sns.boxplot(datapd) # menampilkan data berupa boxplot pada atribut Plan Duration untuk mengetahui adanya outlier"
      ],
      "metadata": {
        "colab": {
          "base_uri": "https://localhost:8080/",
          "height": 447
        },
        "id": "hbhjFQj9QgLa",
        "outputId": "21371246-7063-427c-af24-4e674c6604ae"
      },
      "execution_count": null,
      "outputs": [
        {
          "output_type": "execute_result",
          "data": {
            "text/plain": [
              "<Axes: >"
            ]
          },
          "metadata": {},
          "execution_count": 69
        },
        {
          "output_type": "display_data",
          "data": {
            "text/plain": [
              "<Figure size 640x480 with 1 Axes>"
            ],
            "image/png": "[encoded data removed]"
          },
          "metadata": {}
        }
      ]
    },
    {
      "cell_type": "markdown",
      "source": [
        "#### Kolom 4 :"
      ],
      "metadata": {
        "id": "ZGzxK9PyKVhe"
      }
    },
    {
      "cell_type": "code",
      "source": [
        "df['Monthly Revenue'].unique() # menampilkan variabel pada atribut Monthly Revenue"
      ],
      "metadata": {
        "colab": {
          "base_uri": "https://localhost:8080/"
        },
        "id": "MvNF-_uhKV58",
        "outputId": "f84c50fc-9b51-4bd2-dfb7-8b2ccc4864bb"
      },
      "execution_count": null,
      "outputs": [
        {
          "output_type": "execute_result",
          "data": {
            "text/plain": [
              "array([10, 15, 12, 13, 11, 14])"
            ]
          },
          "metadata": {},
          "execution_count": 20
        }
      ]
    },
    {
      "cell_type": "code",
      "source": [
        "df['Monthly Revenue'].value_counts() # menampilkan nilai komposisi data pada atribut Monthly Revenue"
      ],
      "metadata": {
        "colab": {
          "base_uri": "https://localhost:8080/"
        },
        "id": "USfSE1ARKa1i",
        "outputId": "66917108-b368-4647-964b-f1f8d3e73481"
      },
      "execution_count": null,
      "outputs": [
        {
          "output_type": "execute_result",
          "data": {
            "text/plain": [
              "12    455\n",
              "14    431\n",
              "13    418\n",
              "10    409\n",
              "15    399\n",
              "11    388\n",
              "Name: Monthly Revenue, dtype: int64"
            ]
          },
          "metadata": {},
          "execution_count": 21
        }
      ]
    },
    {
      "cell_type": "code",
      "source": [
        "sns.boxplot(df['Monthly Revenue']) # menampilkan data berupa boxplot pada atribut Monthly Revenue untuk mengetahui adanya outlier"
      ],
      "metadata": {
        "colab": {
          "base_uri": "https://localhost:8080/",
          "height": 447
        },
        "id": "UDrqv8ahQtAy",
        "outputId": "cff5d35b-3a33-4cf6-9230-f5ae271f7701"
      },
      "execution_count": null,
      "outputs": [
        {
          "output_type": "execute_result",
          "data": {
            "text/plain": [
              "<Axes: >"
            ]
          },
          "metadata": {},
          "execution_count": 70
        },
        {
          "output_type": "display_data",
          "data": {
            "text/plain": [
              "<Figure size 640x480 with 1 Axes>"
            ],
            "image/png": "[encoded data removed]"
          },
          "metadata": {}
        }
      ]
    },
    {
      "cell_type": "markdown",
      "source": [
        "**HASIL** : Dari grafik boxplot diatas dapat kita ketahui bahwa tidak adanya outlier pada Monthly Revenue."
      ],
      "metadata": {
        "id": "K-Imz6Ejs9nO"
      }
    },
    {
      "cell_type": "markdown",
      "source": [
        "#### Kolom 5 :"
      ],
      "metadata": {
        "id": "q6Zxr_NQKjNO"
      }
    },
    {
      "cell_type": "code",
      "source": [
        "df['Last Payment Date'].unique() # menampilkan variabel pada atribut Last Payment Date"
      ],
      "metadata": {
        "colab": {
          "base_uri": "https://localhost:8080/"
        },
        "id": "6tm4yIQRKitP",
        "outputId": "26613ba6-77a5-45c2-fb86-35bca7161aa2"
      },
      "execution_count": null,
      "outputs": [
        {
          "output_type": "execute_result",
          "data": {
            "text/plain": [
              "array(['10-06-23', '22-06-23', '27-06-23', '26-06-23', '28-06-23',\n",
              "       '25-06-23', '24-06-23', '23-06-23', '20-06-23', '29-06-23',\n",
              "       '30-06-23', '01-07-23', '02-07-23', '03-07-23', '04-07-23',\n",
              "       '05-07-23', '06-07-23', '07-07-23', '08-07-23', '09-07-23',\n",
              "       '10-07-23', '11-07-23', '12-07-23', '13-07-23', '14-07-23',\n",
              "       '15-07-23'], dtype=object)"
            ]
          },
          "metadata": {},
          "execution_count": 22
        }
      ]
    },
    {
      "cell_type": "code",
      "source": [
        "datalpd=df['Last Payment Date'].value_counts() # menampilkan nilai komposisi data pada atribut Last Payment Date\n",
        "datalpd # menampilkan data"
      ],
      "metadata": {
        "colab": {
          "base_uri": "https://localhost:8080/"
        },
        "id": "CSsS3lNQKo36",
        "outputId": "76481f48-8969-4c2e-9478-7f4c8666dd3d"
      },
      "execution_count": null,
      "outputs": [
        {
          "output_type": "execute_result",
          "data": {
            "text/plain": [
              "28-06-23    164\n",
              "09-07-23    154\n",
              "27-06-23    148\n",
              "03-07-23    146\n",
              "06-07-23    146\n",
              "29-06-23    144\n",
              "10-07-23    140\n",
              "07-07-23    139\n",
              "30-06-23    133\n",
              "04-07-23    131\n",
              "01-07-23    131\n",
              "02-07-23    129\n",
              "11-07-23    128\n",
              "05-07-23    126\n",
              "08-07-23    126\n",
              "26-06-23    114\n",
              "25-06-23     79\n",
              "12-07-23     77\n",
              "24-06-23     40\n",
              "13-07-23     39\n",
              "23-06-23     24\n",
              "22-06-23     18\n",
              "14-07-23     16\n",
              "15-07-23      6\n",
              "20-06-23      1\n",
              "10-06-23      1\n",
              "Name: Last Payment Date, dtype: int64"
            ]
          },
          "metadata": {},
          "execution_count": 72
        }
      ]
    },
    {
      "cell_type": "code",
      "source": [
        "sns.boxplot(datalpd) # menampilkan data berupa boxplot pada atribut Last Payment Date untuk mengetahui adanya outlier"
      ],
      "metadata": {
        "colab": {
          "base_uri": "https://localhost:8080/",
          "height": 447
        },
        "id": "iMuSefSFQ18U",
        "outputId": "4f9bfad1-a037-4b6f-a7ca-35929de9836b"
      },
      "execution_count": null,
      "outputs": [
        {
          "output_type": "execute_result",
          "data": {
            "text/plain": [
              "<Axes: >"
            ]
          },
          "metadata": {},
          "execution_count": 74
        },
        {
          "output_type": "display_data",
          "data": {
            "text/plain": [
              "<Figure size 640x480 with 1 Axes>"
            ],
            "image/png": "[encoded data removed]"
          },
          "metadata": {}
        }
      ]
    },
    {
      "cell_type": "markdown",
      "source": [
        "**HASIL** : Dari grafik boxplot diatas dapat kita ketahui bahwa tidak adanya outlier pada Last Payment Date."
      ],
      "metadata": {
        "id": "3r33ebEQtGF-"
      }
    },
    {
      "cell_type": "markdown",
      "source": [
        "#### Kolom 6 :"
      ],
      "metadata": {
        "id": "vJhTdQ_-Kzbs"
      }
    },
    {
      "cell_type": "code",
      "source": [
        "df['Join Date'].unique() # menampilkan variabel pada atribut Join Date"
      ],
      "metadata": {
        "colab": {
          "base_uri": "https://localhost:8080/"
        },
        "id": "sLCY6YA5KzFn",
        "outputId": "70a33b4a-d0f1-45e3-dee0-0e5a753cac42"
      },
      "execution_count": null,
      "outputs": [
        {
          "output_type": "execute_result",
          "data": {
            "text/plain": [
              "array(['15-01-22', '05-09-21', '28-02-23', '10-07-22', '01-05-23',\n",
              "       '18-03-22', '09-12-21', '02-04-23', '20-10-22', '07-01-23',\n",
              "       '16-05-22', '23-03-23', '30-11-21', '01-08-22', '09-05-23',\n",
              "       '07-04-22', '24-01-22', '18-10-21', '15-02-23', '27-05-23',\n",
              "       '10-06-23', '22-07-22', '05-12-21', '03-04-22', '14-03-23',\n",
              "       '12-01-22', '29-08-22', '27-09-21', '19-12-22', '17-05-23',\n",
              "       '03-02-23', '07-07-22', '21-01-22', '25-05-22', '11-04-23',\n",
              "       '01-03-22', '14-09-22', '05-11-21', '28-12-22', '07-03-23',\n",
              "       '20-01-23', '15-06-22', '07-02-22', '26-04-22', '28-01-23',\n",
              "       '23-02-22', '05-10-22', '15-09-21', '10-11-22', '02-06-23',\n",
              "       '27-02-23', '13-01-22', '30-06-22', '20-04-23', '15-03-22',\n",
              "       '01-10-22', '08-10-21', '03-12-22', '14-06-23', '08-02-23',\n",
              "       '03-08-22', '20-06-22', '29-03-23', '30-01-22', '18-09-22',\n",
              "       '09-11-21', '23-12-22', '08-05-23', '26-01-22', '11-10-22',\n",
              "       '27-09-22', '14-12-22', '28-05-22', '29-12-21', '25-12-22',\n",
              "       '18-11-22', '08-11-22', '11-01-23', '07-12-22', '13-04-23',\n",
              "       '06-04-23', '04-03-22', '28-12-21', '03-10-22', '05-01-22',\n",
              "       '05-02-22', '19-03-22', '28-02-22', '26-07-22', '05-03-22',\n",
              "       '07-03-22', '13-01-23', '22-01-23', '17-10-22', '29-03-22',\n",
              "       '04-04-22', '08-06-22', '24-05-22', '26-01-23', '14-07-22',\n",
              "       '01-06-22', '07-05-22', '05-04-22', '19-05-22', '30-10-21',\n",
              "       '07-08-22', '20-09-22', '18-10-22', '03-05-22', '05-11-22',\n",
              "       '21-08-22', '21-09-22', '23-11-21', '06-10-22', '24-06-22',\n",
              "       '18-07-22', '13-09-22', '10-08-22', '24-03-23', '02-05-22',\n",
              "       '11-05-22', '10-06-22', '31-08-22', '17-08-22', '05-05-22',\n",
              "       '27-11-22', '17-11-22', '15-12-22', '12-12-22', '23-11-22',\n",
              "       '11-03-23', '19-08-22', '19-10-22', '21-12-22', '27-10-22',\n",
              "       '23-10-22', '19-04-22', '11-03-22', '16-04-22', '11-12-22',\n",
              "       '12-01-23', '29-04-22', '27-04-22', '03-06-22', '23-04-22',\n",
              "       '22-04-22', '12-04-22', '23-05-22', '26-09-22', '16-06-22',\n",
              "       '26-05-22', '12-05-22', '16-07-22', '02-09-22', '08-07-22',\n",
              "       '26-06-22', '05-08-22', '26-08-22', '09-06-22', '31-10-22',\n",
              "       '13-10-22', '04-07-22', '31-07-22', '27-07-22', '30-07-22',\n",
              "       '06-08-22', '16-09-22', '05-01-23', '10-12-22', '22-11-22',\n",
              "       '15-11-22', '28-10-22', '08-09-22', '08-10-22', '13-11-22',\n",
              "       '16-11-22', '26-11-22', '08-01-23', '30-09-22', '04-11-22',\n",
              "       '30-10-22', '29-10-22', '30-08-22', '17-05-22', '08-05-22',\n",
              "       '17-07-22', '27-06-22', '31-05-22', '02-06-22', '20-04-22',\n",
              "       '15-09-22', '09-08-22', '25-06-22', '30-05-22', '21-05-22',\n",
              "       '20-05-22', '17-06-22', '13-07-22', '25-07-22', '16-10-22',\n",
              "       '15-10-22', '04-09-22', '20-08-22', '02-08-22', '12-09-22',\n",
              "       '12-11-22', '02-11-22', '04-08-22', '01-09-22', '14-10-22',\n",
              "       '20-11-22', '25-11-22', '04-12-22', '09-12-22', '03-11-22',\n",
              "       '11-06-22', '06-07-22', '14-06-22', '07-06-22', '27-05-22',\n",
              "       '21-04-22', '28-04-22', '25-08-22', '22-08-22', '22-06-22',\n",
              "       '04-06-22', '22-05-22', '29-05-22', '24-07-22', '28-07-22',\n",
              "       '11-08-22', '24-08-22', '08-08-22', '16-08-22', '12-10-22',\n",
              "       '11-11-22', '21-11-22', '08-12-22', '01-11-22', '24-10-22',\n",
              "       '25-10-22', '22-10-22', '06-09-22', '18-06-22', '12-06-22',\n",
              "       '27-08-22', '13-08-22', '12-08-22', '11-07-22', '19-07-22',\n",
              "       '21-07-22', '03-07-22', '23-06-22', '05-06-22', '15-07-22',\n",
              "       '23-07-22', '03-09-22', '23-08-22', '21-10-22', '04-10-22',\n",
              "       '06-11-22', '19-11-22', '10-10-22', '01-07-22', '28-06-22',\n",
              "       '29-06-22', '18-08-22', '26-10-22', '07-10-22', '17-09-22',\n",
              "       '09-11-22', '06-06-22', '19-06-22', '02-07-22', '05-09-22',\n",
              "       '24-09-22', '19-09-22', '28-09-22', '29-09-22', '29-07-22',\n",
              "       '05-07-22', '13-06-22', '14-08-22', '15-08-22', '23-09-22',\n",
              "       '09-10-22', '14-11-22', '25-09-22', '07-11-22', '21-06-22',\n",
              "       '09-07-22', '02-10-22', '12-07-22', '10-09-22', '20-07-22',\n",
              "       '11-09-22', '09-09-22', '22-09-22', '07-09-22', '28-08-22'],\n",
              "      dtype=object)"
            ]
          },
          "metadata": {},
          "execution_count": 24
        }
      ]
    },
    {
      "cell_type": "code",
      "source": [
        "datajd=df['Join Date'].value_counts() # menampilkan nilai komposisi data pada atribut Join Date\n",
        "datajd # menampilkan data"
      ],
      "metadata": {
        "colab": {
          "base_uri": "https://localhost:8080/"
        },
        "id": "YMuQk3-dK6B0",
        "outputId": "5131af8d-1726-4dd2-b08a-ef994475cc20"
      },
      "execution_count": null,
      "outputs": [
        {
          "output_type": "execute_result",
          "data": {
            "text/plain": [
              "05-11-22    33\n",
              "30-06-22    31\n",
              "16-07-22    30\n",
              "17-07-22    29\n",
              "04-11-22    29\n",
              "            ..\n",
              "21-04-22     1\n",
              "30-10-21     1\n",
              "23-11-21     1\n",
              "24-03-23     1\n",
              "15-01-22     1\n",
              "Name: Join Date, Length: 300, dtype: int64"
            ]
          },
          "metadata": {},
          "execution_count": 77
        }
      ]
    },
    {
      "cell_type": "code",
      "source": [
        "sns.boxplot(datajd) # menampilkan data berupa boxplot pada atribut Join Date untuk mengetahui adanya outlier"
      ],
      "metadata": {
        "colab": {
          "base_uri": "https://localhost:8080/",
          "height": 447
        },
        "id": "fuiebzfeRIzs",
        "outputId": "b7fe4bea-dc8b-44a8-b4a3-aa2ba01abb28"
      },
      "execution_count": null,
      "outputs": [
        {
          "output_type": "execute_result",
          "data": {
            "text/plain": [
              "<Axes: >"
            ]
          },
          "metadata": {},
          "execution_count": 78
        },
        {
          "output_type": "display_data",
          "data": {
            "text/plain": [
              "<Figure size 640x480 with 1 Axes>"
            ],
            "image/png": "[encoded data removed]"
          },
          "metadata": {}
        }
      ]
    },
    {
      "cell_type": "markdown",
      "source": [
        "**HASIL** : Dari grafik boxplot diatas dapat kita ketahui bahwa tidak adanya outlier pada Join Date."
      ],
      "metadata": {
        "id": "hkVDGNnzy_v7"
      }
    },
    {
      "cell_type": "markdown",
      "source": [
        "#### Kolom 7 :"
      ],
      "metadata": {
        "id": "QdRvepFsLEN6"
      }
    },
    {
      "cell_type": "code",
      "source": [
        "df['Gender'].unique() # menampilkan variabel pada atribut Gender"
      ],
      "metadata": {
        "colab": {
          "base_uri": "https://localhost:8080/"
        },
        "id": "OMnJlRWsLE5U",
        "outputId": "57b6b84a-51d8-403a-fd0d-403c298357e8"
      },
      "execution_count": null,
      "outputs": [
        {
          "output_type": "execute_result",
          "data": {
            "text/plain": [
              "array(['Male', 'Female'], dtype=object)"
            ]
          },
          "metadata": {},
          "execution_count": 27
        }
      ]
    },
    {
      "cell_type": "code",
      "source": [
        "datag=df['Gender'].value_counts() # menampilkan nilai komposisi data pada atribut Gender\n",
        "datag # menampilkan data"
      ],
      "metadata": {
        "colab": {
          "base_uri": "https://localhost:8080/"
        },
        "id": "DkJ3zrllLKyZ",
        "outputId": "103b9bc6-b3ea-42f7-9bc1-67c2d872847b"
      },
      "execution_count": null,
      "outputs": [
        {
          "output_type": "execute_result",
          "data": {
            "text/plain": [
              "Female    1257\n",
              "Male      1243\n",
              "Name: Gender, dtype: int64"
            ]
          },
          "metadata": {},
          "execution_count": 79
        }
      ]
    },
    {
      "cell_type": "code",
      "source": [
        "sns.boxplot(datag) # menampilkan data berupa boxplot pada atribut Gender untuk mengetahui adanya outlier"
      ],
      "metadata": {
        "colab": {
          "base_uri": "https://localhost:8080/",
          "height": 447
        },
        "id": "ksMp3wpGRWYD",
        "outputId": "f91269cc-4a4d-48b0-e6e3-1578542ada9e"
      },
      "execution_count": null,
      "outputs": [
        {
          "output_type": "execute_result",
          "data": {
            "text/plain": [
              "<Axes: >"
            ]
          },
          "metadata": {},
          "execution_count": 80
        },
        {
          "output_type": "display_data",
          "data": {
            "text/plain": [
              "<Figure size 640x480 with 1 Axes>"
            ],
            "image/png": "[encoded data removed]"
          },
          "metadata": {}
        }
      ]
    },
    {
      "cell_type": "markdown",
      "source": [
        "**HASIL** : Dari grafik boxplot diatas dapat kita ketahui bahwa tidak adanya outlier pada Gender."
      ],
      "metadata": {
        "id": "9-hQQ_nFtRzR"
      }
    },
    {
      "cell_type": "markdown",
      "source": [
        "#### Kolom 8 :"
      ],
      "metadata": {
        "id": "83__r_k9LOko"
      }
    },
    {
      "cell_type": "code",
      "source": [
        "df['Device'].unique() # menampilkan variabel pada atribut Device"
      ],
      "metadata": {
        "colab": {
          "base_uri": "https://localhost:8080/"
        },
        "id": "TJAHX7GELPVu",
        "outputId": "d24095ab-897c-4d52-f585-f9525e61bcbe"
      },
      "execution_count": null,
      "outputs": [
        {
          "output_type": "execute_result",
          "data": {
            "text/plain": [
              "array(['Smartphone', 'Tablet', 'Smart TV', 'Laptop'], dtype=object)"
            ]
          },
          "metadata": {},
          "execution_count": 29
        }
      ]
    },
    {
      "cell_type": "code",
      "source": [
        "datad=df['Device'].value_counts() # menampilkan nilai komposisi data pada atribut Device\n",
        "datad # menampilkan data"
      ],
      "metadata": {
        "colab": {
          "base_uri": "https://localhost:8080/"
        },
        "id": "v4TxnpI4Lczm",
        "outputId": "f34f5d15-e98d-495c-d7b9-04f102baf80c"
      },
      "execution_count": null,
      "outputs": [
        {
          "output_type": "execute_result",
          "data": {
            "text/plain": [
              "Laptop        636\n",
              "Tablet        633\n",
              "Smartphone    621\n",
              "Smart TV      610\n",
              "Name: Device, dtype: int64"
            ]
          },
          "metadata": {},
          "execution_count": 82
        }
      ]
    },
    {
      "cell_type": "code",
      "source": [
        "sns.boxplot(datad) # menampilkan data berupa boxplot pada atribut Device untuk mengetahui adanya outlier"
      ],
      "metadata": {
        "colab": {
          "base_uri": "https://localhost:8080/",
          "height": 447
        },
        "id": "0xxJ59ZWRfs1",
        "outputId": "606efbe7-99cb-43d2-bec5-0798828e918f"
      },
      "execution_count": null,
      "outputs": [
        {
          "output_type": "execute_result",
          "data": {
            "text/plain": [
              "<Axes: >"
            ]
          },
          "metadata": {},
          "execution_count": 83
        },
        {
          "output_type": "display_data",
          "data": {
            "text/plain": [
              "<Figure size 640x480 with 1 Axes>"
            ],
            "image/png": "[encoded data removed]"
          },
          "metadata": {}
        }
      ]
    },
    {
      "cell_type": "markdown",
      "source": [
        "**HASIL** : Dari grafik boxplot diatas dapat kita ketahui bahwa tidak adanya outlier pada Device."
      ],
      "metadata": {
        "id": "Xh31RjoJtXGk"
      }
    },
    {
      "cell_type": "markdown",
      "source": [
        "#### Kolom 9 :"
      ],
      "metadata": {
        "id": "7PDyW7QSLiSt"
      }
    },
    {
      "cell_type": "code",
      "source": [
        "df['Country'].unique() # menampilkan variabel pada atribut Country"
      ],
      "metadata": {
        "colab": {
          "base_uri": "https://localhost:8080/"
        },
        "id": "umHo-8_MLiwx",
        "outputId": "e840e62e-524f-49b6-f37c-3cb1a2f42cf8"
      },
      "execution_count": null,
      "outputs": [
        {
          "output_type": "execute_result",
          "data": {
            "text/plain": [
              "array(['United States', 'Canada', 'United Kingdom', 'Australia',\n",
              "       'Germany', 'France', 'Brazil', 'Mexico', 'Spain', 'Italy'],\n",
              "      dtype=object)"
            ]
          },
          "metadata": {},
          "execution_count": 31
        }
      ]
    },
    {
      "cell_type": "code",
      "source": [
        "datac=df['Country'].value_counts() # menampilkan nilai komposisi data pada atribut Country\n",
        "datac # menampilkan data"
      ],
      "metadata": {
        "colab": {
          "base_uri": "https://localhost:8080/"
        },
        "id": "M4kJ98hVLmiZ",
        "outputId": "fe035e89-e842-41f9-da73-438033d22f84"
      },
      "execution_count": null,
      "outputs": [
        {
          "output_type": "execute_result",
          "data": {
            "text/plain": [
              "United States     451\n",
              "Spain             451\n",
              "Canada            317\n",
              "United Kingdom    183\n",
              "Australia         183\n",
              "Germany           183\n",
              "France            183\n",
              "Brazil            183\n",
              "Mexico            183\n",
              "Italy             183\n",
              "Name: Country, dtype: int64"
            ]
          },
          "metadata": {},
          "execution_count": 84
        }
      ]
    },
    {
      "cell_type": "code",
      "source": [
        "sns.boxplot(datac) # menampilkan data berupa boxplot pada atribut Country untuk mengetahui adanya outlier"
      ],
      "metadata": {
        "colab": {
          "base_uri": "https://localhost:8080/",
          "height": 447
        },
        "id": "4juE7zX8Rol6",
        "outputId": "aa1b6aec-0f23-4045-8ce7-0cbfadecf375"
      },
      "execution_count": null,
      "outputs": [
        {
          "output_type": "execute_result",
          "data": {
            "text/plain": [
              "<Axes: >"
            ]
          },
          "metadata": {},
          "execution_count": 85
        },
        {
          "output_type": "display_data",
          "data": {
            "text/plain": [
              "<Figure size 640x480 with 1 Axes>"
            ],
            "image/png": "[encoded data removed]"
          },
          "metadata": {}
        }
      ]
    },
    {
      "cell_type": "markdown",
      "source": [
        "**HASIL** : Dari grafik boxplot diatas kita dapat melihat terdapat diamond-shaped points (titik belah ketupat). Hal ini dapat disebabkan karena terdapat nilai yang cukup jauh signifikan di atas batas atas boxplot tersebut."
      ],
      "metadata": {
        "id": "JqeQZ3AJtea5"
      }
    },
    {
      "cell_type": "markdown",
      "source": [
        "#### Kolom 10 :"
      ],
      "metadata": {
        "id": "UPnD4i6LLrlg"
      }
    },
    {
      "cell_type": "code",
      "source": [
        "df['Age'].unique() # menampilkan variabel pada atribut Age"
      ],
      "metadata": {
        "colab": {
          "base_uri": "https://localhost:8080/"
        },
        "id": "HZG3ZTl5LsP2",
        "outputId": "30b6fe44-5863-431b-e55a-5e5eecd1ff31"
      },
      "execution_count": null,
      "outputs": [
        {
          "output_type": "execute_result",
          "data": {
            "text/plain": [
              "array([28, 35, 42, 51, 33, 29, 46, 39, 37, 44, 31, 45, 48, 27, 38, 36, 30,\n",
              "       43, 32, 41, 26, 34, 49, 40, 47, 50])"
            ]
          },
          "metadata": {},
          "execution_count": 88
        }
      ]
    },
    {
      "cell_type": "code",
      "source": [
        "df['Age'].value_counts() # menampilkan nilai komposisi data pada atribut Age"
      ],
      "metadata": {
        "colab": {
          "base_uri": "https://localhost:8080/"
        },
        "id": "l3X1Rh7wLveb",
        "outputId": "122a8b0b-64bf-4354-ac22-0846b1f7796f"
      },
      "execution_count": null,
      "outputs": [
        {
          "output_type": "execute_result",
          "data": {
            "text/plain": [
              "39    116\n",
              "30    116\n",
              "28    115\n",
              "31    115\n",
              "41    114\n",
              "47    111\n",
              "37    107\n",
              "35    105\n",
              "29    104\n",
              "40    103\n",
              "42    102\n",
              "48    101\n",
              "46     99\n",
              "36     99\n",
              "49     97\n",
              "43     94\n",
              "33     93\n",
              "51     93\n",
              "32     92\n",
              "45     89\n",
              "38     89\n",
              "34     88\n",
              "27     87\n",
              "44     86\n",
              "50     84\n",
              "26      1\n",
              "Name: Age, dtype: int64"
            ]
          },
          "metadata": {},
          "execution_count": 89
        }
      ]
    },
    {
      "cell_type": "code",
      "source": [
        "sns.boxplot(df['Age']) # menampilkan data berupa boxplot pada atribut Age untuk mengetahui adanya outlier"
      ],
      "metadata": {
        "colab": {
          "base_uri": "https://localhost:8080/",
          "height": 447
        },
        "id": "JZ_13muqR1pb",
        "outputId": "f635b8b0-4ae2-4e15-9f8f-d55a00af9866"
      },
      "execution_count": null,
      "outputs": [
        {
          "output_type": "execute_result",
          "data": {
            "text/plain": [
              "<Axes: >"
            ]
          },
          "metadata": {},
          "execution_count": 91
        },
        {
          "output_type": "display_data",
          "data": {
            "text/plain": [
              "<Figure size 640x480 with 1 Axes>"
            ],
            "image/png": "[encoded data removed]"
          },
          "metadata": {}
        }
      ]
    },
    {
      "cell_type": "markdown",
      "source": [
        "**HASIL** : Dari grafik boxplot diatas dapat kita ketahui bahwa tidak adanya outlier pada Age."
      ],
      "metadata": {
        "id": "5slwdpn4L3ZQ"
      }
    },
    {
      "cell_type": "markdown",
      "source": [
        "**KESIMPULAN** : Dalam code ini, kami menjelaskan tahap awal dalam analisis data, yaitu pemahaman data dan persiapan data, dengan fokus pada deskripsi data, verifikasi kualitas data, dan pembersihan data. Pemahaman data membantu kami menggali potensi dataset, mengidentifikasi pola, dan merumuskan analisis yang relevan. Sementara itu, persiapan data menjadikan data lebih bersih, relevan, dan siap digunakan dalam analisis yang lebih mendalam. Dalam konteks dataset 'Netflix Userbase', kami memastikan bahwa data tidak memiliki nilai yang hilang, kualitas data terjaga, dan kami melakukan tindakan pembersihan data, termasuk mengatasi outlier dan menghapus data duplikat.\n"
      ],
      "metadata": {
        "id": "icTrqgGnVEqF"
      }
    }
  ]
}